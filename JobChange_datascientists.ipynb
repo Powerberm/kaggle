{
 "cells": [
  {
   "cell_type": "markdown",
   "id": "71c4b057",
   "metadata": {},
   "source": [
    "### Job change of data scientists\n",
    "Context and Content\n",
    "A company which is active in Big Data and Data Science wants to hire data scientists among people who successfully pass some courses which conduct by the company. Many people signup for their training. Company wants to know which of these candidates are really wants to work for the company after training or looking for a new employment because it helps to reduce the cost and time as well as the quality of training or planning the courses and categorization of candidates. Information related to demographics, education, experience are in hands from candidates signup and enrollment.\n",
    "\n",
    "This dataset designed to understand the factors that lead a person to leave current job for HR researches too. By model(s) that uses the current credentials,demographics,experience data you will predict the probability of a candidate to look for a new job or will work for the company, as well as interpreting affected factors on employee decision.\n",
    "\n",
    "The whole data divided to train and test . Target isn't included in test but the test target values data file is in hands for related tasks. A sample submission correspond to enrollee_id of test set provided too with columns : enrollee _id , target\n",
    "\n",
    "Note:\n",
    "\n",
    "The dataset is imbalanced.\n",
    "Most features are categorical (Nominal, Ordinal, Binary), some with high cardinality.\n",
    "Missing imputation can be a part of your pipeline as well.\n",
    "Features\n",
    "\n",
    "enrollee_id : Unique ID for candidate\n",
    "\n",
    "city: City code\n",
    "\n",
    "city_ development _index : Developement index of the city (scaled)\n",
    "\n",
    "gender: Gender of candidate\n",
    "\n",
    "relevent_experience: Relevant experience of candidate\n",
    "\n",
    "enrolled_university: Type of University course enrolled if any\n",
    "\n",
    "education_level: Education level of candidate\n",
    "\n",
    "major_discipline :Education major discipline of candidate\n",
    "\n",
    "experience: Candidate total experience in years\n",
    "\n",
    "company_size: No of employees in current employer's company\n",
    "\n",
    "company_type : Type of current employer\n",
    "\n",
    "lastnewjob: Difference in years between previous job and current job\n",
    "\n",
    "training_hours: training hours completed\n",
    "\n",
    "target: 0 – Not looking for job change, 1 – Looking for a job change\n",
    "\n",
    "Inspiration\n",
    "Predict the probability of a candidate will work for the company\n",
    "Interpret model(s) such a way that illustrate which features affect candidate decision\n",
    "Please refer to the following task for more details:\n",
    "https://www.kaggle.com/arashnic/hr-analytics-job-change-of-data-scientists/tasks?taskId=3015"
   ]
  },
  {
   "cell_type": "code",
   "execution_count": 128,
   "id": "9c957d7b",
   "metadata": {},
   "outputs": [],
   "source": [
    "import pandas as pd\n",
    "import seaborn as sns\n",
    "from sklearn.tree import DecisionTreeClassifier\n",
    "from sklearn.preprocessing import OneHotEncoder\n",
    "from sklearn.model_selection import train_test_split\n",
    "from sklearn.metrics import accuracy_score, confusion_matrix, classification_report\n",
    "from matplotlib import pyplot\n",
    "from scipy.stats import norm, skew, boxcox\n",
    "import matplotlib.pyplot as plt\n",
    "import missingno as msno"
   ]
  },
  {
   "cell_type": "code",
   "execution_count": 55,
   "id": "70a156f1",
   "metadata": {},
   "outputs": [
    {
     "data": {
      "text/plain": [
       "Index(['enrollee_id', 'city', 'city_development_index', 'gender',\n",
       "       'relevent_experience', 'enrolled_university', 'education_level',\n",
       "       'major_discipline', 'experience', 'company_size', 'company_type',\n",
       "       'last_new_job', 'training_hours', 'target'],\n",
       "      dtype='object')"
      ]
     },
     "execution_count": 55,
     "metadata": {},
     "output_type": "execute_result"
    }
   ],
   "source": [
    "job_train = pd.read_csv('JobChange_datascientists/aug_train.csv')\n",
    "job_test = pd.read_csv('JobChange_datascientists/aug_test.csv')\n",
    "job_train.columns"
   ]
  },
  {
   "cell_type": "code",
   "execution_count": 56,
   "id": "0a707ae7",
   "metadata": {},
   "outputs": [],
   "source": [
    "job_train = job_train.rename(columns={'relevent_experience': 'relevant_experience'})\n",
    "job_test = job_test.rename(columns={'relevent_experience': 'relevant_experience'})"
   ]
  },
  {
   "cell_type": "code",
   "execution_count": 57,
   "id": "067e99fd",
   "metadata": {},
   "outputs": [
    {
     "name": "stdout",
     "output_type": "stream",
     "text": [
      "<class 'pandas.core.frame.DataFrame'>\n",
      "RangeIndex: 19158 entries, 0 to 19157\n",
      "Data columns (total 14 columns):\n",
      " #   Column                  Non-Null Count  Dtype  \n",
      "---  ------                  --------------  -----  \n",
      " 0   enrollee_id             19158 non-null  int64  \n",
      " 1   city                    19158 non-null  object \n",
      " 2   city_development_index  19158 non-null  float64\n",
      " 3   gender                  14650 non-null  object \n",
      " 4   relevant_experience     19158 non-null  object \n",
      " 5   enrolled_university     18772 non-null  object \n",
      " 6   education_level         18698 non-null  object \n",
      " 7   major_discipline        16345 non-null  object \n",
      " 8   experience              19093 non-null  object \n",
      " 9   company_size            13220 non-null  object \n",
      " 10  company_type            13018 non-null  object \n",
      " 11  last_new_job            18735 non-null  object \n",
      " 12  training_hours          19158 non-null  int64  \n",
      " 13  target                  19158 non-null  float64\n",
      "dtypes: float64(2), int64(2), object(10)\n",
      "memory usage: 2.0+ MB\n"
     ]
    }
   ],
   "source": [
    "job_train.info()"
   ]
  },
  {
   "cell_type": "code",
   "execution_count": 58,
   "id": "ff2c9a7c",
   "metadata": {
    "scrolled": true
   },
   "outputs": [
    {
     "data": {
      "text/plain": [
       "city_103    4355\n",
       "city_21     2702\n",
       "city_16     1533\n",
       "city_114    1336\n",
       "city_160     845\n",
       "            ... \n",
       "city_111       3\n",
       "city_121       3\n",
       "city_129       3\n",
       "city_140       1\n",
       "city_171       1\n",
       "Name: city, Length: 123, dtype: int64"
      ]
     },
     "execution_count": 58,
     "metadata": {},
     "output_type": "execute_result"
    }
   ],
   "source": [
    "job_train['city'].value_counts()"
   ]
  },
  {
   "cell_type": "markdown",
   "id": "815a3aa2",
   "metadata": {},
   "source": [
    "### These visualization until plt.distplot refers to https://www.kaggle.com/rafetcan/hr-analytics-eda-modeling"
   ]
  },
  {
   "cell_type": "code",
   "execution_count": 59,
   "id": "46261ba6",
   "metadata": {
    "scrolled": true
   },
   "outputs": [
    {
     "data": {
      "image/png": "[encoded data removed]",
      "text/plain": [
       "<Figure size 648x216 with 1 Axes>"
      ]
     },
     "metadata": {
      "needs_background": "light"
     },
     "output_type": "display_data"
    },
    {
     "name": "stdout",
     "output_type": "stream",
     "text": [
      "0.920    5200\n",
      "0.624    2702\n",
      "0.910    1533\n",
      "0.926    1336\n",
      "0.698     683\n",
      "         ... \n",
      "0.824       4\n",
      "0.807       4\n",
      "0.625       3\n",
      "0.781       3\n",
      "0.664       1\n",
      "Name: city_development_index, Length: 93, dtype: int64\n"
     ]
    }
   ],
   "source": [
    "plt.figure(figsize=(9,3))\n",
    "plt.hist(job_train['city_development_index'], color='blue')\n",
    "plt.ylabel('Frequency')\n",
    "plt.show()\n",
    "\n",
    "print(job_train['city_development_index'].value_counts())"
   ]
  },
  {
   "cell_type": "code",
   "execution_count": 60,
   "id": "1d5ee655",
   "metadata": {},
   "outputs": [
    {
     "name": "stderr",
     "output_type": "stream",
     "text": [
      "C:\\Users\\Z-Service\\Anaconda3\\lib\\site-packages\\seaborn\\_decorators.py:43: FutureWarning: Pass the following variable as a keyword arg: x. From version 0.12, the only valid positional argument will be `data`, and passing other arguments without an explicit keyword will result in an error or misinterpretation.\n",
      "  FutureWarning\n"
     ]
    },
    {
     "data": {
      "image/png": "[encoded data removed]",
      "text/plain": [
       "<Figure size 648x216 with 1 Axes>"
      ]
     },
     "metadata": {
      "needs_background": "light"
     },
     "output_type": "display_data"
    },
    {
     "name": "stdout",
     "output_type": "stream",
     "text": [
      "Male      13221\n",
      "Female     1238\n",
      "Other       191\n",
      "Name: gender, dtype: int64\n"
     ]
    }
   ],
   "source": [
    "plt.figure(figsize=(9, 3))\n",
    "sns.countplot(job_train['gender'], hue='target', data=job_train)\n",
    "plt.title('Gender')\n",
    "plt.show()\n",
    "\n",
    "print(job_train['gender'].value_counts())"
   ]
  },
  {
   "cell_type": "code",
   "execution_count": 61,
   "id": "f6462280",
   "metadata": {
    "scrolled": true
   },
   "outputs": [
    {
     "data": {
      "image/png": "[encoded data removed]",
      "text/plain": [
       "<Figure size 432x576 with 1 Axes>"
      ]
     },
     "metadata": {},
     "output_type": "display_data"
    },
    {
     "name": "stdout",
     "output_type": "stream",
     "text": [
      "Has relevent experience    13792\n",
      "No relevent experience      5366\n",
      "Name: relevant_experience, dtype: int64\n"
     ]
    }
   ],
   "source": [
    "plt.figure(figsize=(6, 8))\n",
    "experience_index = job_train['relevant_experience'].value_counts().index\n",
    "experience_values = job_train['relevant_experience'].value_counts().values\n",
    "plt.pie(experience_values, labels=experience_index, autopct='%1.2f%%')\n",
    "plt.title('Relevent Experience',color = 'darkred',fontsize = 15)\n",
    "plt.legend()\n",
    "plt.show()\n",
    "\n",
    "print(job_train['relevant_experience'].value_counts())"
   ]
  },
  {
   "cell_type": "markdown",
   "id": "02b63fe9",
   "metadata": {},
   "source": [
    "### In addition to the heatmap, there is a bar on the right side of this diagram. This is a line plot for each row's data completeness. In this dataset, all rows have 7 - 14 valid values and hence 0 - 7 missing values."
   ]
  },
  {
   "cell_type": "code",
   "execution_count": 62,
   "id": "586a312f",
   "metadata": {},
   "outputs": [
    {
     "data": {
      "text/plain": [
       "<AxesSubplot:>"
      ]
     },
     "execution_count": 62,
     "metadata": {},
     "output_type": "execute_result"
    },
    {
     "data": {
      "image/png": "[encoded data removed]",
      "text/plain": [
       "<Figure size 1800x720 with 2 Axes>"
      ]
     },
     "metadata": {
      "needs_background": "light"
     },
     "output_type": "display_data"
    }
   ],
   "source": [
    "msno.matrix(job_train)"
   ]
  },
  {
   "cell_type": "code",
   "execution_count": 63,
   "id": "1bdf9dc0",
   "metadata": {
    "scrolled": true
   },
   "outputs": [
    {
     "data": {
      "text/plain": [
       "<AxesSubplot:>"
      ]
     },
     "execution_count": 63,
     "metadata": {},
     "output_type": "execute_result"
    },
    {
     "data": {
      "image/png": "[encoded data removed]",
      "text/plain": [
       "<Figure size 1440x864 with 2 Axes>"
      ]
     },
     "metadata": {
      "needs_background": "light"
     },
     "output_type": "display_data"
    }
   ],
   "source": [
    "msno.heatmap(job_train)"
   ]
  },
  {
   "cell_type": "code",
   "execution_count": 64,
   "id": "f458b88f",
   "metadata": {},
   "outputs": [
    {
     "data": {
      "text/plain": [
       "<AxesSubplot:>"
      ]
     },
     "execution_count": 64,
     "metadata": {},
     "output_type": "execute_result"
    },
    {
     "data": {
      "image/png": "[encoded data removed]",
      "text/plain": [
       "<Figure size 1800x720 with 1 Axes>"
      ]
     },
     "metadata": {
      "needs_background": "light"
     },
     "output_type": "display_data"
    }
   ],
   "source": [
    "msno.dendrogram(job_train)"
   ]
  },
  {
   "cell_type": "code",
   "execution_count": 65,
   "id": "a681f2cc",
   "metadata": {
    "scrolled": false
   },
   "outputs": [
    {
     "data": {
      "text/plain": [
       "<AxesSubplot:>"
      ]
     },
     "execution_count": 65,
     "metadata": {},
     "output_type": "execute_result"
    },
    {
     "data": {
      "image/png": "[encoded data removed]",
      "text/plain": [
       "<Figure size 1728x720 with 3 Axes>"
      ]
     },
     "metadata": {
      "needs_background": "light"
     },
     "output_type": "display_data"
    }
   ],
   "source": [
    "msno.bar(job_train, color='red')"
   ]
  },
  {
   "cell_type": "code",
   "execution_count": 66,
   "id": "f0624878",
   "metadata": {},
   "outputs": [
    {
     "data": {
      "image/png": "[encoded data removed]",
      "text/plain": [
       "<Figure size 360x360 with 1 Axes>"
      ]
     },
     "metadata": {
      "needs_background": "light"
     },
     "output_type": "display_data"
    }
   ],
   "source": [
    "g = sns.catplot(x='gender', y='target', data=job_train, kind='bar')\n",
    "# g.set_xticklabels(['Female', 'Male', 'Other'])\n",
    "# g.set_yticklabels('Target')\n",
    "plt.show()"
   ]
  },
  {
   "cell_type": "code",
   "execution_count": 67,
   "id": "2210e6d9",
   "metadata": {},
   "outputs": [
    {
     "name": "stderr",
     "output_type": "stream",
     "text": [
      "C:\\Users\\Z-Service\\Anaconda3\\lib\\site-packages\\seaborn\\distributions.py:2557: FutureWarning: `distplot` is a deprecated function and will be removed in a future version. Please adapt your code to use either `displot` (a figure-level function with similar flexibility) or `histplot` (an axes-level function for histograms).\n",
      "  warnings.warn(msg, FutureWarning)\n"
     ]
    },
    {
     "data": {
      "image/png": "[encoded data removed]",
      "text/plain": [
       "<Figure size 432x288 with 1 Axes>"
      ]
     },
     "metadata": {
      "needs_background": "light"
     },
     "output_type": "display_data"
    },
    {
     "name": "stdout",
     "output_type": "stream",
     "text": [
      "mu training_hours: 65.36689633573442, sigma training_hours: 60.05689445297729\n"
     ]
    }
   ],
   "source": [
    "# mu is mean | sigma is standard deviation\n",
    "sns.distplot(job_train['training_hours'], fit=norm)\n",
    "plt.show()\n",
    "(mu, sigma) = norm.fit(job_train['training_hours'])\n",
    "print('mu {}: {}, sigma {}: {}'.format('training_hours', mu, 'training_hours', sigma))"
   ]
  },
  {
   "cell_type": "code",
   "execution_count": 68,
   "id": "4a90a07a",
   "metadata": {},
   "outputs": [
    {
     "data": {
      "text/html": [
       "<div>\n",
       "<style scoped>\n",
       "    .dataframe tbody tr th:only-of-type {\n",
       "        vertical-align: middle;\n",
       "    }\n",
       "\n",
       "    .dataframe tbody tr th {\n",
       "        vertical-align: top;\n",
       "    }\n",
       "\n",
       "    .dataframe thead th {\n",
       "        text-align: right;\n",
       "    }\n",
       "</style>\n",
       "<table border=\"1\" class=\"dataframe\">\n",
       "  <thead>\n",
       "    <tr style=\"text-align: right;\">\n",
       "      <th></th>\n",
       "      <th>enrollee_id</th>\n",
       "      <th>city</th>\n",
       "      <th>city_development_index</th>\n",
       "      <th>gender</th>\n",
       "      <th>relevant_experience</th>\n",
       "      <th>enrolled_university</th>\n",
       "      <th>education_level</th>\n",
       "      <th>major_discipline</th>\n",
       "      <th>experience</th>\n",
       "      <th>company_size</th>\n",
       "      <th>company_type</th>\n",
       "      <th>last_new_job</th>\n",
       "      <th>training_hours</th>\n",
       "      <th>target</th>\n",
       "    </tr>\n",
       "  </thead>\n",
       "  <tbody>\n",
       "    <tr>\n",
       "      <th>0</th>\n",
       "      <td>8949</td>\n",
       "      <td>city_103</td>\n",
       "      <td>0.920</td>\n",
       "      <td>Male</td>\n",
       "      <td>Has relevent experience</td>\n",
       "      <td>no_enrollment</td>\n",
       "      <td>Graduate</td>\n",
       "      <td>STEM</td>\n",
       "      <td>&gt;20</td>\n",
       "      <td>NaN</td>\n",
       "      <td>NaN</td>\n",
       "      <td>1</td>\n",
       "      <td>36</td>\n",
       "      <td>1.0</td>\n",
       "    </tr>\n",
       "    <tr>\n",
       "      <th>1</th>\n",
       "      <td>29725</td>\n",
       "      <td>city_40</td>\n",
       "      <td>0.776</td>\n",
       "      <td>Male</td>\n",
       "      <td>No relevent experience</td>\n",
       "      <td>no_enrollment</td>\n",
       "      <td>Graduate</td>\n",
       "      <td>STEM</td>\n",
       "      <td>15</td>\n",
       "      <td>50-99</td>\n",
       "      <td>Pvt Ltd</td>\n",
       "      <td>&gt;4</td>\n",
       "      <td>47</td>\n",
       "      <td>0.0</td>\n",
       "    </tr>\n",
       "    <tr>\n",
       "      <th>2</th>\n",
       "      <td>11561</td>\n",
       "      <td>city_21</td>\n",
       "      <td>0.624</td>\n",
       "      <td>NaN</td>\n",
       "      <td>No relevent experience</td>\n",
       "      <td>Full time course</td>\n",
       "      <td>Graduate</td>\n",
       "      <td>STEM</td>\n",
       "      <td>5</td>\n",
       "      <td>NaN</td>\n",
       "      <td>NaN</td>\n",
       "      <td>never</td>\n",
       "      <td>83</td>\n",
       "      <td>0.0</td>\n",
       "    </tr>\n",
       "    <tr>\n",
       "      <th>3</th>\n",
       "      <td>33241</td>\n",
       "      <td>city_115</td>\n",
       "      <td>0.789</td>\n",
       "      <td>NaN</td>\n",
       "      <td>No relevent experience</td>\n",
       "      <td>NaN</td>\n",
       "      <td>Graduate</td>\n",
       "      <td>Business Degree</td>\n",
       "      <td>&lt;1</td>\n",
       "      <td>NaN</td>\n",
       "      <td>Pvt Ltd</td>\n",
       "      <td>never</td>\n",
       "      <td>52</td>\n",
       "      <td>1.0</td>\n",
       "    </tr>\n",
       "    <tr>\n",
       "      <th>4</th>\n",
       "      <td>666</td>\n",
       "      <td>city_162</td>\n",
       "      <td>0.767</td>\n",
       "      <td>Male</td>\n",
       "      <td>Has relevent experience</td>\n",
       "      <td>no_enrollment</td>\n",
       "      <td>Masters</td>\n",
       "      <td>STEM</td>\n",
       "      <td>&gt;20</td>\n",
       "      <td>50-99</td>\n",
       "      <td>Funded Startup</td>\n",
       "      <td>4</td>\n",
       "      <td>8</td>\n",
       "      <td>0.0</td>\n",
       "    </tr>\n",
       "  </tbody>\n",
       "</table>\n",
       "</div>"
      ],
      "text/plain": [
       "   enrollee_id      city  city_development_index gender  \\\n",
       "0         8949  city_103                   0.920   Male   \n",
       "1        29725   city_40                   0.776   Male   \n",
       "2        11561   city_21                   0.624    NaN   \n",
       "3        33241  city_115                   0.789    NaN   \n",
       "4          666  city_162                   0.767   Male   \n",
       "\n",
       "       relevant_experience enrolled_university education_level  \\\n",
       "0  Has relevent experience       no_enrollment        Graduate   \n",
       "1   No relevent experience       no_enrollment        Graduate   \n",
       "2   No relevent experience    Full time course        Graduate   \n",
       "3   No relevent experience                 NaN        Graduate   \n",
       "4  Has relevent experience       no_enrollment         Masters   \n",
       "\n",
       "  major_discipline experience company_size    company_type last_new_job  \\\n",
       "0             STEM        >20          NaN             NaN            1   \n",
       "1             STEM         15        50-99         Pvt Ltd           >4   \n",
       "2             STEM          5          NaN             NaN        never   \n",
       "3  Business Degree         <1          NaN         Pvt Ltd        never   \n",
       "4             STEM        >20        50-99  Funded Startup            4   \n",
       "\n",
       "   training_hours  target  \n",
       "0              36     1.0  \n",
       "1              47     0.0  \n",
       "2              83     0.0  \n",
       "3              52     1.0  \n",
       "4               8     0.0  "
      ]
     },
     "execution_count": 68,
     "metadata": {},
     "output_type": "execute_result"
    }
   ],
   "source": [
    "job_train.head()"
   ]
  },
  {
   "cell_type": "code",
   "execution_count": 69,
   "id": "86bf6c49",
   "metadata": {
    "scrolled": true
   },
   "outputs": [
    {
     "data": {
      "text/html": [
       "<div>\n",
       "<style scoped>\n",
       "    .dataframe tbody tr th:only-of-type {\n",
       "        vertical-align: middle;\n",
       "    }\n",
       "\n",
       "    .dataframe tbody tr th {\n",
       "        vertical-align: top;\n",
       "    }\n",
       "\n",
       "    .dataframe thead th {\n",
       "        text-align: right;\n",
       "    }\n",
       "</style>\n",
       "<table border=\"1\" class=\"dataframe\">\n",
       "  <thead>\n",
       "    <tr style=\"text-align: right;\">\n",
       "      <th></th>\n",
       "      <th>enrollee_id</th>\n",
       "      <th>city</th>\n",
       "      <th>city_development_index</th>\n",
       "      <th>gender</th>\n",
       "      <th>relevant_experience</th>\n",
       "      <th>enrolled_university</th>\n",
       "      <th>education_level</th>\n",
       "      <th>major_discipline</th>\n",
       "      <th>experience</th>\n",
       "      <th>company_size</th>\n",
       "      <th>company_type</th>\n",
       "      <th>last_new_job</th>\n",
       "      <th>training_hours</th>\n",
       "    </tr>\n",
       "  </thead>\n",
       "  <tbody>\n",
       "    <tr>\n",
       "      <th>0</th>\n",
       "      <td>32403</td>\n",
       "      <td>city_41</td>\n",
       "      <td>0.827</td>\n",
       "      <td>Male</td>\n",
       "      <td>Has relevent experience</td>\n",
       "      <td>Full time course</td>\n",
       "      <td>Graduate</td>\n",
       "      <td>STEM</td>\n",
       "      <td>9</td>\n",
       "      <td>&lt;10</td>\n",
       "      <td>NaN</td>\n",
       "      <td>1</td>\n",
       "      <td>21</td>\n",
       "    </tr>\n",
       "    <tr>\n",
       "      <th>1</th>\n",
       "      <td>9858</td>\n",
       "      <td>city_103</td>\n",
       "      <td>0.920</td>\n",
       "      <td>Female</td>\n",
       "      <td>Has relevent experience</td>\n",
       "      <td>no_enrollment</td>\n",
       "      <td>Graduate</td>\n",
       "      <td>STEM</td>\n",
       "      <td>5</td>\n",
       "      <td>NaN</td>\n",
       "      <td>Pvt Ltd</td>\n",
       "      <td>1</td>\n",
       "      <td>98</td>\n",
       "    </tr>\n",
       "    <tr>\n",
       "      <th>2</th>\n",
       "      <td>31806</td>\n",
       "      <td>city_21</td>\n",
       "      <td>0.624</td>\n",
       "      <td>Male</td>\n",
       "      <td>No relevent experience</td>\n",
       "      <td>no_enrollment</td>\n",
       "      <td>High School</td>\n",
       "      <td>NaN</td>\n",
       "      <td>&lt;1</td>\n",
       "      <td>NaN</td>\n",
       "      <td>Pvt Ltd</td>\n",
       "      <td>never</td>\n",
       "      <td>15</td>\n",
       "    </tr>\n",
       "    <tr>\n",
       "      <th>3</th>\n",
       "      <td>27385</td>\n",
       "      <td>city_13</td>\n",
       "      <td>0.827</td>\n",
       "      <td>Male</td>\n",
       "      <td>Has relevent experience</td>\n",
       "      <td>no_enrollment</td>\n",
       "      <td>Masters</td>\n",
       "      <td>STEM</td>\n",
       "      <td>11</td>\n",
       "      <td>10/49</td>\n",
       "      <td>Pvt Ltd</td>\n",
       "      <td>1</td>\n",
       "      <td>39</td>\n",
       "    </tr>\n",
       "    <tr>\n",
       "      <th>4</th>\n",
       "      <td>27724</td>\n",
       "      <td>city_103</td>\n",
       "      <td>0.920</td>\n",
       "      <td>Male</td>\n",
       "      <td>Has relevent experience</td>\n",
       "      <td>no_enrollment</td>\n",
       "      <td>Graduate</td>\n",
       "      <td>STEM</td>\n",
       "      <td>&gt;20</td>\n",
       "      <td>10000+</td>\n",
       "      <td>Pvt Ltd</td>\n",
       "      <td>&gt;4</td>\n",
       "      <td>72</td>\n",
       "    </tr>\n",
       "  </tbody>\n",
       "</table>\n",
       "</div>"
      ],
      "text/plain": [
       "   enrollee_id      city  city_development_index  gender  \\\n",
       "0        32403   city_41                   0.827    Male   \n",
       "1         9858  city_103                   0.920  Female   \n",
       "2        31806   city_21                   0.624    Male   \n",
       "3        27385   city_13                   0.827    Male   \n",
       "4        27724  city_103                   0.920    Male   \n",
       "\n",
       "       relevant_experience enrolled_university education_level  \\\n",
       "0  Has relevent experience    Full time course        Graduate   \n",
       "1  Has relevent experience       no_enrollment        Graduate   \n",
       "2   No relevent experience       no_enrollment     High School   \n",
       "3  Has relevent experience       no_enrollment         Masters   \n",
       "4  Has relevent experience       no_enrollment        Graduate   \n",
       "\n",
       "  major_discipline experience company_size company_type last_new_job  \\\n",
       "0             STEM          9          <10          NaN            1   \n",
       "1             STEM          5          NaN      Pvt Ltd            1   \n",
       "2              NaN         <1          NaN      Pvt Ltd        never   \n",
       "3             STEM         11        10/49      Pvt Ltd            1   \n",
       "4             STEM        >20       10000+      Pvt Ltd           >4   \n",
       "\n",
       "   training_hours  \n",
       "0              21  \n",
       "1              98  \n",
       "2              15  \n",
       "3              39  \n",
       "4              72  "
      ]
     },
     "execution_count": 69,
     "metadata": {},
     "output_type": "execute_result"
    }
   ],
   "source": [
    "job_test.head()"
   ]
  },
  {
   "cell_type": "code",
   "execution_count": 70,
   "id": "772a180a",
   "metadata": {},
   "outputs": [
    {
     "data": {
      "text/plain": [
       "enrollee_id                 int64\n",
       "city                       object\n",
       "city_development_index    float64\n",
       "gender                     object\n",
       "relevant_experience        object\n",
       "enrolled_university        object\n",
       "education_level            object\n",
       "major_discipline           object\n",
       "experience                 object\n",
       "company_size               object\n",
       "company_type               object\n",
       "last_new_job               object\n",
       "training_hours              int64\n",
       "target                    float64\n",
       "dtype: object"
      ]
     },
     "execution_count": 70,
     "metadata": {},
     "output_type": "execute_result"
    }
   ],
   "source": [
    "job_train.dtypes"
   ]
  },
  {
   "cell_type": "code",
   "execution_count": 71,
   "id": "bc25b079",
   "metadata": {},
   "outputs": [
    {
     "name": "stdout",
     "output_type": "stream",
     "text": [
      "19158\n",
      "2129\n"
     ]
    }
   ],
   "source": [
    "print(job_train.shape[0])\n",
    "print(job_test.shape[0])"
   ]
  },
  {
   "cell_type": "code",
   "execution_count": 72,
   "id": "203bd002",
   "metadata": {},
   "outputs": [
    {
     "data": {
      "text/plain": [
       "enrollee_id                  0\n",
       "city                         0\n",
       "city_development_index       0\n",
       "gender                    4508\n",
       "relevant_experience          0\n",
       "enrolled_university        386\n",
       "education_level            460\n",
       "major_discipline          2813\n",
       "experience                  65\n",
       "company_size              5938\n",
       "company_type              6140\n",
       "last_new_job               423\n",
       "training_hours               0\n",
       "target                       0\n",
       "dtype: int64"
      ]
     },
     "execution_count": 72,
     "metadata": {},
     "output_type": "execute_result"
    }
   ],
   "source": [
    "job_train.isnull().sum()"
   ]
  },
  {
   "cell_type": "code",
   "execution_count": 73,
   "id": "75d77a58",
   "metadata": {},
   "outputs": [
    {
     "data": {
      "text/plain": [
       "count    19158.000000\n",
       "mean        65.366896\n",
       "std         60.058462\n",
       "min          1.000000\n",
       "25%         23.000000\n",
       "50%         47.000000\n",
       "75%         88.000000\n",
       "max        336.000000\n",
       "Name: training_hours, dtype: float64"
      ]
     },
     "execution_count": 73,
     "metadata": {},
     "output_type": "execute_result"
    }
   ],
   "source": [
    "job_train['training_hours'].describe()"
   ]
  },
  {
   "cell_type": "code",
   "execution_count": 74,
   "id": "fa4aea05",
   "metadata": {},
   "outputs": [
    {
     "data": {
      "text/plain": [
       "array([nan, 'Pvt Ltd', 'Funded Startup', 'Early Stage Startup', 'Other',\n",
       "       'Public Sector', 'NGO'], dtype=object)"
      ]
     },
     "execution_count": 74,
     "metadata": {},
     "output_type": "execute_result"
    }
   ],
   "source": [
    "job_train['company_type'].unique()"
   ]
  },
  {
   "cell_type": "code",
   "execution_count": 75,
   "id": "e6df1bbc",
   "metadata": {
    "scrolled": true
   },
   "outputs": [
    {
     "data": {
      "text/plain": [
       "array(['Graduate', 'Masters', 'High School', nan, 'Phd', 'Primary School'],\n",
       "      dtype=object)"
      ]
     },
     "execution_count": 75,
     "metadata": {},
     "output_type": "execute_result"
    }
   ],
   "source": [
    "job_train['education_level'].unique()"
   ]
  },
  {
   "cell_type": "markdown",
   "id": "4cd6d4bb",
   "metadata": {},
   "source": [
    "### Fillna with 'No data', 0, and -1"
   ]
  },
  {
   "cell_type": "code",
   "execution_count": 76,
   "id": "8e8097fe",
   "metadata": {},
   "outputs": [],
   "source": [
    "no_data_columns = ['gender', 'enrolled_university', 'education_level', 'major_discipline', 'company_type']\n",
    "zero_columns = ['company_size', 'experience']\n",
    "\n",
    "for i in no_data_columns:\n",
    "    job_train[i] = job_train[i].fillna('No data')\n",
    "    job_test[i] = job_test[i].fillna('No data')\n",
    "    \n",
    "for i in zero_columns:\n",
    "    job_train[i] = job_train[i].fillna(0)\n",
    "    job_test[i] = job_test[i].fillna(0)\n",
    "\n",
    "job_train['last_new_job'] = job_train['last_new_job'].fillna(-1)\n",
    "job_test['last_new_job'] = job_test['last_new_job'].fillna(-1)\n"
   ]
  },
  {
   "cell_type": "markdown",
   "id": "742e9c9e",
   "metadata": {},
   "source": [
    "### LabelEncoder"
   ]
  },
  {
   "cell_type": "code",
   "execution_count": 77,
   "id": "242482d8",
   "metadata": {},
   "outputs": [],
   "source": [
    "job_train['train'] = 0\n",
    "job_test['train'] = 1\n",
    "combined = pd.concat([job_train, job_test])\n",
    "df = pd.get_dummies(combined[['city', 'gender', 'relevant_experience', 'enrolled_university', 'education_level', 'major_discipline',\n",
    "                              'experience', 'company_size', 'company_type', 'last_new_job']])\n",
    "combined = pd.concat([combined, df], axis=1)\n",
    "combined = combined.drop(columns={'city', 'gender', 'relevant_experience', 'enrolled_university', 'education_level', 'major_discipline',\n",
    "                              'experience', 'company_size', 'company_type', 'last_new_job'})\n",
    "\n",
    "employee_predicted = job_test['enrollee_id']\n",
    "\n",
    "job_train = combined[combined['train'] == 0]\n",
    "job_test = combined[combined['train'] == 1]\n",
    "\n",
    "job_train = job_train.drop(columns={'train'})\n",
    "job_test = job_test.drop(columns={'train'})\n",
    "\n",
    "job_train = job_train.drop(columns={'enrollee_id'})\n",
    "job_test = job_test.drop(columns={'enrollee_id', 'target'})"
   ]
  },
  {
   "cell_type": "markdown",
   "id": "60eff2c7",
   "metadata": {},
   "source": [
    "### This comment is spared"
   ]
  },
  {
   "cell_type": "code",
   "execution_count": 78,
   "id": "01eb34ff",
   "metadata": {},
   "outputs": [],
   "source": [
    "# combined = combined.reshape(-1, 1)\n",
    "# combined['experience'] = str(combined['experience'])\n",
    "# city = OneHotEncoder(sparse=False)\n",
    "# city.fit_transform(combined[['city', 'gender', 'relevant_experience', 'enrolled_university', 'education_level', 'major_discipline', 'experience', 'company_size', 'company_type', 'last_new_job']])\n",
    "# city.categories_\n",
    "\n",
    "# city.fit([combined['city']])\n",
    "# city.transform([combined['city']])\n",
    "\n",
    "\n",
    "# city.fit(combined['city'].unique())\n",
    "# df['city'] = combined['city'+'_le'].values.reshape(-1, 1)\n",
    "# city.transform(combined['city'])\n",
    "\n",
    "# df['city'+'_le'] = city.transform(combined['city'])\n",
    "# df['city'+'_le'] = combined['city'+'_le'].values.reshape(-1, 1)\n",
    "# df['city'+'_le'+'ohe'] = city.transform(combined['city'])\n",
    "\n",
    "# combined['city'] = city.fit(combined['city'])\n",
    "# encoder = ['city', 'gender', 'relevant_experience', 'enrolled_university', 'education_level', 'major_discipline',\n",
    "#            'experience', 'company_size', 'company_type', 'last_new_job']\n",
    "\n",
    "# city = OneHotEncoder()\n",
    "# city.fit(job_train['city'])\n",
    "# gender = LabelEncoder()\n",
    "# relevant_experience = LabelEncoder()\n",
    "# enrolled_university = LabelEncoder()\n",
    "# education_level = LabelEncoder()\n",
    "# major_discipline = LabelEncoder()\n",
    "# experience = LabelEncoder()\n",
    "# company_size = LabelEncoder()\n",
    "# company_type = LabelEncoder()\n",
    "# last_new_job = LabelEncoder()\n",
    "\n",
    "# job_train['city'] = city.fit_transform(job_train['city'])\n",
    "# job_test['city'] = city.fit_transform(job_test['city'])\n",
    "# job_train['gender'] = gender.fit_transform(job_train['gender'])\n",
    "# city_train_mapping = dict(zip(city_train.classes_, city_train.transform(city_train.classes_)))\n",
    "# city_test_mapping = dict(zip(city_test.classes_, city_test.transform(city_test.classes_)))\n",
    "# gender_mapping = dict(zip(gender.classes_, gender.transform(gender.classes_)))\n",
    "# print(f'City_train: {city_train_mapping}')\n",
    "# print(f'City_test: {city_test_mapping}')\n",
    "\n",
    "# job_train['city'].apply(OneHotEncoder().fit_transform)\n",
    "\n",
    "# for i in encoder:\n",
    "# #     print(job_train[i])\n",
    "#     job_train[i].apply(OneHotEncoder().fit_transform)"
   ]
  },
  {
   "cell_type": "code",
   "execution_count": 79,
   "id": "1d096b17",
   "metadata": {},
   "outputs": [
    {
     "name": "stdout",
     "output_type": "stream",
     "text": [
      "city_development_index: [0.92  0.776 0.624 0.789 0.767 0.764 0.762 0.913 0.926 0.827 0.843 0.804\n",
      " 0.855 0.887 0.91  0.884 0.924 0.666 0.558 0.923 0.794 0.754 0.939 0.55\n",
      " 0.865 0.698 0.893 0.796 0.866 0.682 0.802 0.579 0.878 0.897 0.949 0.925\n",
      " 0.896 0.836 0.693 0.769 0.775 0.903 0.555 0.727 0.64  0.516 0.743 0.899\n",
      " 0.915 0.689 0.895 0.89  0.847 0.527 0.766 0.738 0.647 0.795 0.74  0.701\n",
      " 0.493 0.84  0.691 0.735 0.742 0.479 0.722 0.921 0.848 0.856 0.898 0.83\n",
      " 0.73  0.68  0.725 0.556 0.448 0.763 0.745 0.645 0.788 0.78  0.512 0.739\n",
      " 0.563 0.518 0.824 0.487 0.649 0.781 0.625 0.807 0.664]\n",
      "training_hours: [ 36  47  83  52   8  24  18  46 123  32 108  23  26 106   7 132  68  50\n",
      "  48  65  13  22 148  72  40 141  82 145 206 152  42  14 112  87  20  21\n",
      "  92 102  43  45  19  90  25  15  98 142  28 228  29  12  17  35   4 136\n",
      "  27  74  86  75 332 140 182 172  33  34 150 160   3   2 210 101  59 260\n",
      " 131 109  70  51  60 164 290 133  76 156 120 100  39  55  49   6 125 326\n",
      " 198  11  41 114 246  81  31  84 105  38 178 104 202  88 218  62  10  80\n",
      "  77  37 162 190  30  16   5  54  44 110 262 107 134 103  96  57 240  94\n",
      " 113  56  64 320   9 129  58 126 166  95  97 204 116 161 146 302  53 143\n",
      " 124 214 288 306 322  67  61 130 220  78 314 226 280  91 234 163 151  85\n",
      " 256 168 144  66 128  73 122 154  63 292 188  71 135 138 184  89 157 118\n",
      " 111 192 127 216 139 196  99 167 276 121  69 155 316 242 304 284 278 310\n",
      " 222 212 250 180 258 330 158 149 165  79 194 176 174 312 200 328 300 153\n",
      " 232 336 308 147 298 224 254 248 236 170 264 119 117 334 324   1 238 266\n",
      " 282 268 244 272 294 270 286]\n",
      "target: [1. 0.]\n",
      "city_city_1: [0 1]\n",
      "city_city_10: [0 1]\n",
      "city_city_100: [0 1]\n",
      "city_city_101: [0 1]\n",
      "city_city_102: [0 1]\n",
      "city_city_103: [1 0]\n",
      "city_city_104: [0 1]\n",
      "city_city_105: [0 1]\n",
      "city_city_106: [0 1]\n",
      "city_city_107: [0 1]\n",
      "city_city_109: [0 1]\n",
      "city_city_11: [0 1]\n",
      "city_city_111: [0 1]\n",
      "city_city_114: [0 1]\n",
      "city_city_115: [0 1]\n",
      "city_city_116: [0 1]\n",
      "city_city_117: [0 1]\n",
      "city_city_118: [0 1]\n",
      "city_city_12: [0 1]\n",
      "city_city_120: [0 1]\n",
      "city_city_121: [0 1]\n",
      "city_city_123: [0 1]\n",
      "city_city_126: [0 1]\n",
      "city_city_127: [0 1]\n",
      "city_city_128: [0 1]\n",
      "city_city_129: [0 1]\n",
      "city_city_13: [0 1]\n",
      "city_city_131: [0 1]\n",
      "city_city_133: [0 1]\n",
      "city_city_134: [0 1]\n",
      "city_city_136: [0 1]\n",
      "city_city_138: [0 1]\n",
      "city_city_139: [0 1]\n",
      "city_city_14: [0 1]\n",
      "city_city_140: [0 1]\n",
      "city_city_141: [0 1]\n",
      "city_city_142: [0 1]\n",
      "city_city_143: [0 1]\n",
      "city_city_144: [0 1]\n",
      "city_city_145: [0 1]\n",
      "city_city_146: [0 1]\n",
      "city_city_149: [0 1]\n",
      "city_city_150: [0 1]\n",
      "city_city_152: [0 1]\n",
      "city_city_155: [0 1]\n",
      "city_city_157: [0 1]\n",
      "city_city_158: [0 1]\n",
      "city_city_159: [0 1]\n",
      "city_city_16: [0 1]\n",
      "city_city_160: [0 1]\n",
      "city_city_162: [0 1]\n",
      "city_city_165: [0 1]\n",
      "city_city_166: [0 1]\n",
      "city_city_167: [0 1]\n",
      "city_city_171: [0 1]\n",
      "city_city_173: [0 1]\n",
      "city_city_175: [0 1]\n",
      "city_city_176: [0 1]\n",
      "city_city_179: [0 1]\n",
      "city_city_18: [0 1]\n",
      "city_city_180: [0 1]\n",
      "city_city_19: [0 1]\n",
      "city_city_2: [0 1]\n",
      "city_city_20: [0 1]\n",
      "city_city_21: [0 1]\n",
      "city_city_23: [0 1]\n",
      "city_city_24: [0 1]\n",
      "city_city_25: [0 1]\n",
      "city_city_26: [0 1]\n",
      "city_city_27: [0 1]\n",
      "city_city_28: [0 1]\n",
      "city_city_30: [0 1]\n",
      "city_city_31: [0 1]\n",
      "city_city_33: [0 1]\n",
      "city_city_36: [0 1]\n",
      "city_city_37: [0 1]\n",
      "city_city_39: [0 1]\n",
      "city_city_40: [0 1]\n",
      "city_city_41: [0 1]\n",
      "city_city_42: [0 1]\n",
      "city_city_43: [0 1]\n",
      "city_city_44: [0 1]\n",
      "city_city_45: [0 1]\n",
      "city_city_46: [0 1]\n",
      "city_city_48: [0 1]\n",
      "city_city_50: [0 1]\n",
      "city_city_53: [0 1]\n",
      "city_city_54: [0 1]\n",
      "city_city_55: [0 1]\n",
      "city_city_57: [0 1]\n",
      "city_city_59: [0 1]\n",
      "city_city_61: [0 1]\n",
      "city_city_62: [0 1]\n",
      "city_city_64: [0 1]\n",
      "city_city_65: [0 1]\n",
      "city_city_67: [0 1]\n",
      "city_city_69: [0 1]\n",
      "city_city_7: [0 1]\n",
      "city_city_70: [0 1]\n",
      "city_city_71: [0 1]\n",
      "city_city_72: [0 1]\n",
      "city_city_73: [0 1]\n",
      "city_city_74: [0 1]\n",
      "city_city_75: [0 1]\n",
      "city_city_76: [0 1]\n",
      "city_city_77: [0 1]\n",
      "city_city_78: [0 1]\n",
      "city_city_79: [0 1]\n",
      "city_city_8: [0 1]\n",
      "city_city_80: [0 1]\n",
      "city_city_81: [0 1]\n",
      "city_city_82: [0 1]\n",
      "city_city_83: [0 1]\n",
      "city_city_84: [0 1]\n",
      "city_city_89: [0 1]\n",
      "city_city_9: [0 1]\n",
      "city_city_90: [0 1]\n",
      "city_city_91: [0 1]\n",
      "city_city_93: [0 1]\n",
      "city_city_94: [0 1]\n",
      "city_city_97: [0 1]\n",
      "city_city_98: [0 1]\n",
      "city_city_99: [0 1]\n",
      "gender_Female: [0 1]\n",
      "gender_Male: [1 0]\n",
      "gender_No data: [0 1]\n",
      "gender_Other: [0 1]\n",
      "relevant_experience_Has relevent experience: [1 0]\n",
      "relevant_experience_No relevent experience: [0 1]\n",
      "enrolled_university_Full time course: [0 1]\n",
      "enrolled_university_No data: [0 1]\n",
      "enrolled_university_Part time course: [0 1]\n",
      "enrolled_university_no_enrollment: [1 0]\n",
      "education_level_Graduate: [1 0]\n",
      "education_level_High School: [0 1]\n",
      "education_level_Masters: [0 1]\n",
      "education_level_No data: [0 1]\n",
      "education_level_Phd: [0 1]\n",
      "education_level_Primary School: [0 1]\n",
      "major_discipline_Arts: [0 1]\n",
      "major_discipline_Business Degree: [0 1]\n",
      "major_discipline_Humanities: [0 1]\n",
      "major_discipline_No Major: [0 1]\n",
      "major_discipline_No data: [0 1]\n",
      "major_discipline_Other: [0 1]\n",
      "major_discipline_STEM: [1 0]\n",
      "experience_0: [0 1]\n",
      "experience_1: [0 1]\n",
      "experience_10: [0 1]\n",
      "experience_11: [0 1]\n",
      "experience_12: [0 1]\n",
      "experience_13: [0 1]\n",
      "experience_14: [0 1]\n",
      "experience_15: [0 1]\n",
      "experience_16: [0 1]\n",
      "experience_17: [0 1]\n",
      "experience_18: [0 1]\n",
      "experience_19: [0 1]\n",
      "experience_2: [0 1]\n",
      "experience_20: [0 1]\n",
      "experience_3: [0 1]\n",
      "experience_4: [0 1]\n",
      "experience_5: [0 1]\n",
      "experience_6: [0 1]\n",
      "experience_7: [0 1]\n",
      "experience_8: [0 1]\n",
      "experience_9: [0 1]\n",
      "experience_<1: [0 1]\n",
      "experience_>20: [1 0]\n",
      "company_size_0: [1 0]\n",
      "company_size_10/49: [0 1]\n",
      "company_size_100-500: [0 1]\n",
      "company_size_1000-4999: [0 1]\n",
      "company_size_10000+: [0 1]\n",
      "company_size_50-99: [0 1]\n",
      "company_size_500-999: [0 1]\n",
      "company_size_5000-9999: [0 1]\n",
      "company_size_<10: [0 1]\n",
      "company_type_Early Stage Startup: [0 1]\n",
      "company_type_Funded Startup: [0 1]\n",
      "company_type_NGO: [0 1]\n",
      "company_type_No data: [1 0]\n",
      "company_type_Other: [0 1]\n",
      "company_type_Public Sector: [0 1]\n",
      "company_type_Pvt Ltd: [0 1]\n",
      "last_new_job_-1: [0 1]\n",
      "last_new_job_1: [1 0]\n",
      "last_new_job_2: [0 1]\n",
      "last_new_job_3: [0 1]\n",
      "last_new_job_4: [0 1]\n",
      "last_new_job_>4: [0 1]\n",
      "last_new_job_never: [0 1]\n"
     ]
    }
   ],
   "source": [
    "columns = job_train.columns\n",
    "for i in columns:\n",
    "    print(f'{i}: {job_train[i].unique()}')"
   ]
  },
  {
   "cell_type": "code",
   "execution_count": 80,
   "id": "65c3589e",
   "metadata": {
    "scrolled": true
   },
   "outputs": [
    {
     "name": "stdout",
     "output_type": "stream",
     "text": [
      "Max leaf nodes: 5, Acc: 0.7847077244258872\n",
      "Max leaf nodes: 10, Acc: 0.7927974947807933\n",
      "Max leaf nodes: 50, Acc: 0.791231732776618\n",
      "Max leaf nodes: 80, Acc: 0.795929018789144\n",
      "Max leaf nodes: 100, Acc: 0.7967118997912317\n",
      "Max leaf nodes: 150, Acc: 0.7925365344467641\n",
      "Max leaf nodes: 200, Acc: 0.7862734864300627\n",
      "Max leaf nodes: 250, Acc: 0.7865344467640919\n",
      "Max leaf nodes: 300, Acc: 0.7813152400835073\n",
      "Max leaf nodes: 350, Acc: 0.7828810020876826\n",
      "Max leaf nodes: 400, Acc: 0.7813152400835073\n",
      "Max leaf nodes: 450, Acc: 0.7826200417536534\n"
     ]
    }
   ],
   "source": [
    "# features = ['city', 'city_development_index', 'gender', 'relevant_experience', \n",
    "#             'enrolled_university', 'education_level', 'major_discipline',\n",
    "#             'experience', 'company_size', 'company_type', 'last_new_job',\n",
    "#             'training_hours']\n",
    "\n",
    "features = ['city_development_index', 'training_hours', 'city_city_1', 'city_city_10', \n",
    "            'city_city_100', 'city_city_101', 'city_city_102', 'city_city_103', 'city_city_104', \n",
    "            'city_city_105', 'city_city_106', 'city_city_107', 'city_city_109', 'city_city_11', \n",
    "            'city_city_111', 'city_city_114', 'city_city_115', 'city_city_116', 'city_city_117', \n",
    "            'city_city_118', 'city_city_12', 'city_city_120', 'city_city_121', 'city_city_123', \n",
    "            'city_city_126', 'city_city_127', 'city_city_128', 'city_city_129', 'city_city_13', \n",
    "            'city_city_131', 'city_city_133', 'city_city_134', 'city_city_136', 'city_city_138', \n",
    "            'city_city_139', 'city_city_14', 'city_city_140', 'city_city_141', 'city_city_142', \n",
    "            'city_city_143', 'city_city_144', 'city_city_145', 'city_city_146', 'city_city_149', \n",
    "            'city_city_150', 'city_city_152', 'city_city_155', 'city_city_157', 'city_city_158', \n",
    "            'city_city_159', 'city_city_16', 'city_city_160', 'city_city_162', 'city_city_165', \n",
    "            'city_city_166', 'city_city_167', 'city_city_171', 'city_city_173', 'city_city_175', \n",
    "            'city_city_176', 'city_city_179', 'city_city_18', 'city_city_180', 'city_city_19', \n",
    "            'city_city_2', 'city_city_20', 'city_city_21', 'city_city_23', 'city_city_24', \n",
    "            'city_city_25', 'city_city_26', 'city_city_27', 'city_city_28', 'city_city_30', \n",
    "            'city_city_31', 'city_city_33', 'city_city_36', 'city_city_37', 'city_city_39', \n",
    "            'city_city_40', 'city_city_41', 'city_city_42', 'city_city_43', 'city_city_44', \n",
    "            'city_city_45', 'city_city_46', 'city_city_48', 'city_city_50', 'city_city_53', \n",
    "            'city_city_54', 'city_city_55', 'city_city_57', 'city_city_59', 'city_city_61', \n",
    "            'city_city_62', 'city_city_64', 'city_city_65', 'city_city_67', 'city_city_69', \n",
    "            'city_city_7', 'city_city_70', 'city_city_71', 'city_city_72', 'city_city_73', \n",
    "            'city_city_74', 'city_city_75', 'city_city_76', 'city_city_77', 'city_city_78', \n",
    "            'city_city_79', 'city_city_8', 'city_city_80', 'city_city_81', 'city_city_82', \n",
    "            'city_city_83', 'city_city_84', 'city_city_89', 'city_city_9', 'city_city_90', \n",
    "            'city_city_91', 'city_city_93', 'city_city_94', 'city_city_97', 'city_city_98', \n",
    "            'city_city_99', 'gender_Female', 'gender_Male', 'gender_No data', 'gender_Other', \n",
    "            'relevant_experience_Has relevent experience', 'relevant_experience_No relevent experience', \n",
    "            'enrolled_university_Full time course', 'enrolled_university_No data', \n",
    "            'enrolled_university_Part time course', 'enrolled_university_no_enrollment', \n",
    "            'education_level_Graduate', 'education_level_High School', 'education_level_Masters', \n",
    "            'education_level_No data', 'education_level_Phd', 'education_level_Primary School', \n",
    "            'major_discipline_Arts', 'major_discipline_Business Degree', 'major_discipline_Humanities', \n",
    "            'major_discipline_No Major', 'major_discipline_No data', 'major_discipline_Other', \n",
    "            'major_discipline_STEM', 'experience_0', 'experience_1', 'experience_10', 'experience_11', \n",
    "            'experience_12', 'experience_13', 'experience_14', 'experience_15', 'experience_16', \n",
    "            'experience_17', 'experience_18', 'experience_19', 'experience_2', 'experience_20', \n",
    "            'experience_3', 'experience_4', 'experience_5', 'experience_6', 'experience_7', 'experience_8', \n",
    "            'experience_9', 'experience_<1', 'experience_>20', 'company_size_0', 'company_size_10/49', \n",
    "            'company_size_100-500', 'company_size_1000-4999', 'company_size_10000+', 'company_size_50-99', \n",
    "            'company_size_500-999', 'company_size_5000-9999', 'company_size_<10', 'company_type_Early Stage Startup', \n",
    "            'company_type_Funded Startup', 'company_type_NGO', 'company_type_No data', 'company_type_Other', \n",
    "            'company_type_Public Sector', 'company_type_Pvt Ltd', 'last_new_job_-1', 'last_new_job_1', \n",
    "            'last_new_job_2', 'last_new_job_3', 'last_new_job_4', 'last_new_job_>4', 'last_new_job_never']\n",
    "\n",
    "X = job_train[features]\n",
    "y = job_train['target']\n",
    "\n",
    "train_X, val_X, train_y, val_y = train_test_split(X, y, test_size=0.2, random_state=1)\n",
    "\n",
    "test_X = job_test[features]\n",
    "# val_y = job_test['target']\n",
    "\n",
    "\n",
    "def get_accuracy(max_leaf_nodes, train_X, train_y, val_X, val_y):\n",
    "    model = DecisionTreeClassifier(max_leaf_nodes=max_leaf_nodes, random_state=1)\n",
    "    model.fit(train_X, train_y)\n",
    "    val_predicted = model.predict(val_X)\n",
    "    acc = accuracy_score(val_y, val_predicted)\n",
    "    return acc\n",
    "\n",
    "# 100 has the best accuracy\n",
    "for max_leaf_nodes in [5, 10, 50, 80, 100, 150, 200, 250, 300, 350, 400, 450]:\n",
    "    acc_score = get_accuracy(max_leaf_nodes, train_X, train_y, val_X, val_y)\n",
    "    print(f'Max leaf nodes: {max_leaf_nodes}, Acc: {acc_score}')"
   ]
  },
  {
   "cell_type": "code",
   "execution_count": 81,
   "id": "172cc429",
   "metadata": {},
   "outputs": [],
   "source": [
    "model = DecisionTreeClassifier(max_leaf_nodes=100, random_state=1)\n",
    "model.fit(train_X, train_y)\n",
    "val_predicted = model.predict(val_X)"
   ]
  },
  {
   "cell_type": "code",
   "execution_count": 82,
   "id": "add038b7",
   "metadata": {},
   "outputs": [
    {
     "name": "stdout",
     "output_type": "stream",
     "text": [
      "              precision    recall  f1-score   support\n",
      "\n",
      "         0.0       0.88      0.84      0.86      2884\n",
      "         1.0       0.58      0.66      0.61       948\n",
      "\n",
      "    accuracy                           0.80      3832\n",
      "   macro avg       0.73      0.75      0.74      3832\n",
      "weighted avg       0.81      0.80      0.80      3832\n",
      "\n"
     ]
    }
   ],
   "source": [
    "print(classification_report(val_y, val_predicted))"
   ]
  },
  {
   "cell_type": "markdown",
   "id": "19df9a20",
   "metadata": {},
   "source": [
    "### These lines are spared"
   ]
  },
  {
   "cell_type": "code",
   "execution_count": 51,
   "id": "60b12f70",
   "metadata": {},
   "outputs": [
    {
     "name": "stdout",
     "output_type": "stream",
     "text": [
      "0.7967118997912317\n"
     ]
    },
    {
     "ename": "TypeError",
     "evalue": "'str' object is not callable",
     "output_type": "error",
     "traceback": [
      "\u001b[1;31m---------------------------------------------------------------------------\u001b[0m",
      "\u001b[1;31mTypeError\u001b[0m                                 Traceback (most recent call last)",
      "\u001b[1;32m<ipython-input-51-b9f6087697d0>\u001b[0m in \u001b[0;36m<module>\u001b[1;34m\u001b[0m\n\u001b[0;32m      6\u001b[0m \u001b[0mprint\u001b[0m\u001b[1;33m(\u001b[0m\u001b[0maccuracy_score\u001b[0m\u001b[1;33m(\u001b[0m\u001b[0mval_y\u001b[0m\u001b[1;33m,\u001b[0m \u001b[0mval_predicted\u001b[0m\u001b[1;33m)\u001b[0m\u001b[1;33m)\u001b[0m\u001b[1;33m\u001b[0m\u001b[1;33m\u001b[0m\u001b[0m\n\u001b[0;32m      7\u001b[0m \u001b[1;33m\u001b[0m\u001b[0m\n\u001b[1;32m----> 8\u001b[1;33m \u001b[0mprint\u001b[0m\u001b[1;33m(\u001b[0m\u001b[0mclassification_report\u001b[0m\u001b[1;33m(\u001b[0m\u001b[0mval_y\u001b[0m\u001b[1;33m,\u001b[0m \u001b[0mval_predicted\u001b[0m\u001b[1;33m)\u001b[0m\u001b[1;33m)\u001b[0m\u001b[1;33m\u001b[0m\u001b[1;33m\u001b[0m\u001b[0m\n\u001b[0m\u001b[0;32m      9\u001b[0m \u001b[1;33m\u001b[0m\u001b[0m\n\u001b[0;32m     10\u001b[0m \u001b[1;31m# acc_predicted = accuracy_score(val_y, val_predicted)\u001b[0m\u001b[1;33m\u001b[0m\u001b[1;33m\u001b[0m\u001b[1;33m\u001b[0m\u001b[0m\n",
      "\u001b[1;31mTypeError\u001b[0m: 'str' object is not callable"
     ]
    }
   ],
   "source": [
    "# print(train_X.shape[0])\n",
    "# print(val_X.shape[0])\n",
    "# print(train_y.shape[0])\n",
    "# print(val_y.shape[0])\n",
    "\n",
    "print(accuracy_score(val_y, val_predicted))\n",
    "\n",
    "print(classification_report(val_y, val_predicted))\n",
    "\n",
    "# acc_predicted = accuracy_score(val_y, val_predicted)\n",
    "# acc_predicted\n",
    "# print(val_y[val_y == 0].shape[0])\n",
    "# print(val_predicted[val_predicted == 0].shape[0])\n",
    "# print(val_y[val_y == 1].shape[0])\n",
    "# print(val_predicted[val_predicted == 1].shape[0])\n",
    "\n",
    "val_y = val_y.values\n",
    "# print(val_y)\n",
    "# print(val_predicted)\n",
    "# val_y.shape[0]\n",
    "count_true = (val_y == val_predicted)\n",
    "print(f'True: {count_true[count_true == True].shape[0]}')\n",
    "print(f'False: {count_true[count_true == False].shape[0]}')\n",
    "print(val_y)\n",
    "print(val_predicted)\n",
    "print(count_true)\n",
    "# val_predicted[0]\n",
    "# acc_predicted = accuracy_score(val_y, val_predicted)\n",
    "\n",
    "# print(val_y[1])\n",
    "\n",
    "\n",
    "# print(mean_absolute_error(val_y, val_predictions))"
   ]
  },
  {
   "cell_type": "markdown",
   "id": "da7d763c",
   "metadata": {},
   "source": [
    "### Accuracy of the validation set by the decision tree model"
   ]
  },
  {
   "cell_type": "code",
   "execution_count": 31,
   "id": "b034d850",
   "metadata": {},
   "outputs": [
    {
     "data": {
      "text/plain": [
       "79.2536534446764"
      ]
     },
     "execution_count": 31,
     "metadata": {},
     "output_type": "execute_result"
    }
   ],
   "source": [
    "100*(3037/3832)"
   ]
  },
  {
   "cell_type": "markdown",
   "id": "35df4744",
   "metadata": {},
   "source": [
    "### Feature importance"
   ]
  },
  {
   "cell_type": "code",
   "execution_count": 83,
   "id": "20ca0e52",
   "metadata": {},
   "outputs": [
    {
     "name": "stdout",
     "output_type": "stream",
     "text": [
      "Feature: 0, Score: 0.46943\n",
      "Feature: 1, Score: 0.03299\n",
      "Feature: 2, Score: 0.00000\n",
      "Feature: 3, Score: 0.00000\n",
      "Feature: 4, Score: 0.00338\n",
      "Feature: 5, Score: 0.00000\n",
      "Feature: 6, Score: 0.00000\n",
      "Feature: 7, Score: 0.02542\n",
      "Feature: 8, Score: 0.00000\n",
      "Feature: 9, Score: 0.00000\n",
      "Feature: 10, Score: 0.00000\n",
      "Feature: 11, Score: 0.00000\n",
      "Feature: 12, Score: 0.00000\n",
      "Feature: 13, Score: 0.00000\n",
      "Feature: 14, Score: 0.00000\n",
      "Feature: 15, Score: 0.00000\n",
      "Feature: 16, Score: 0.00000\n",
      "Feature: 17, Score: 0.00000\n",
      "Feature: 18, Score: 0.00000\n",
      "Feature: 19, Score: 0.00000\n",
      "Feature: 20, Score: 0.00000\n",
      "Feature: 21, Score: 0.00000\n",
      "Feature: 22, Score: 0.00000\n",
      "Feature: 23, Score: 0.00000\n",
      "Feature: 24, Score: 0.00000\n",
      "Feature: 25, Score: 0.00000\n",
      "Feature: 26, Score: 0.00000\n",
      "Feature: 27, Score: 0.00000\n",
      "Feature: 28, Score: 0.00000\n",
      "Feature: 29, Score: 0.00000\n",
      "Feature: 30, Score: 0.00000\n",
      "Feature: 31, Score: 0.00176\n",
      "Feature: 32, Score: 0.00000\n",
      "Feature: 33, Score: 0.00000\n",
      "Feature: 34, Score: 0.00000\n",
      "Feature: 35, Score: 0.00000\n",
      "Feature: 36, Score: 0.00000\n",
      "Feature: 37, Score: 0.00000\n",
      "Feature: 38, Score: 0.00000\n",
      "Feature: 39, Score: 0.00000\n",
      "Feature: 40, Score: 0.00000\n",
      "Feature: 41, Score: 0.00000\n",
      "Feature: 42, Score: 0.00000\n",
      "Feature: 43, Score: 0.00000\n",
      "Feature: 44, Score: 0.00000\n",
      "Feature: 45, Score: 0.00000\n",
      "Feature: 46, Score: 0.00000\n",
      "Feature: 47, Score: 0.00000\n",
      "Feature: 48, Score: 0.00000\n",
      "Feature: 49, Score: 0.00000\n",
      "Feature: 50, Score: 0.00153\n",
      "Feature: 51, Score: 0.02338\n",
      "Feature: 52, Score: 0.00000\n",
      "Feature: 53, Score: 0.00129\n",
      "Feature: 54, Score: 0.00000\n",
      "Feature: 55, Score: 0.00000\n",
      "Feature: 56, Score: 0.00000\n",
      "Feature: 57, Score: 0.00000\n",
      "Feature: 58, Score: 0.00000\n",
      "Feature: 59, Score: 0.00000\n",
      "Feature: 60, Score: 0.00000\n",
      "Feature: 61, Score: 0.00000\n",
      "Feature: 62, Score: 0.00000\n",
      "Feature: 63, Score: 0.00000\n",
      "Feature: 64, Score: 0.00000\n",
      "Feature: 65, Score: 0.00000\n",
      "Feature: 66, Score: 0.00000\n",
      "Feature: 67, Score: 0.00000\n",
      "Feature: 68, Score: 0.00000\n",
      "Feature: 69, Score: 0.00000\n",
      "Feature: 70, Score: 0.00000\n",
      "Feature: 71, Score: 0.00000\n",
      "Feature: 72, Score: 0.00000\n",
      "Feature: 73, Score: 0.00000\n",
      "Feature: 74, Score: 0.00000\n",
      "Feature: 75, Score: 0.00000\n",
      "Feature: 76, Score: 0.00000\n",
      "Feature: 77, Score: 0.00000\n",
      "Feature: 78, Score: 0.00000\n",
      "Feature: 79, Score: 0.00000\n",
      "Feature: 80, Score: 0.00000\n",
      "Feature: 81, Score: 0.00000\n",
      "Feature: 82, Score: 0.00000\n",
      "Feature: 83, Score: 0.00000\n",
      "Feature: 84, Score: 0.00000\n",
      "Feature: 85, Score: 0.00000\n",
      "Feature: 86, Score: 0.00000\n",
      "Feature: 87, Score: 0.00000\n",
      "Feature: 88, Score: 0.00247\n",
      "Feature: 89, Score: 0.00000\n",
      "Feature: 90, Score: 0.00000\n",
      "Feature: 91, Score: 0.00000\n",
      "Feature: 92, Score: 0.00000\n",
      "Feature: 93, Score: 0.00000\n",
      "Feature: 94, Score: 0.00000\n",
      "Feature: 95, Score: 0.00000\n",
      "Feature: 96, Score: 0.00000\n",
      "Feature: 97, Score: 0.00000\n",
      "Feature: 98, Score: 0.00000\n",
      "Feature: 99, Score: 0.00000\n",
      "Feature: 100, Score: 0.00000\n",
      "Feature: 101, Score: 0.00000\n",
      "Feature: 102, Score: 0.00000\n",
      "Feature: 103, Score: 0.00000\n",
      "Feature: 104, Score: 0.00000\n",
      "Feature: 105, Score: 0.00000\n",
      "Feature: 106, Score: 0.00000\n",
      "Feature: 107, Score: 0.00000\n",
      "Feature: 108, Score: 0.00000\n",
      "Feature: 109, Score: 0.00000\n",
      "Feature: 110, Score: 0.00000\n",
      "Feature: 111, Score: 0.00000\n",
      "Feature: 112, Score: 0.00000\n",
      "Feature: 113, Score: 0.00000\n",
      "Feature: 114, Score: 0.00000\n",
      "Feature: 115, Score: 0.00000\n",
      "Feature: 116, Score: 0.00151\n",
      "Feature: 117, Score: 0.00000\n",
      "Feature: 118, Score: 0.00000\n",
      "Feature: 119, Score: 0.00000\n",
      "Feature: 120, Score: 0.00000\n",
      "Feature: 121, Score: 0.00000\n",
      "Feature: 122, Score: 0.00000\n",
      "Feature: 123, Score: 0.00137\n",
      "Feature: 124, Score: 0.00000\n",
      "Feature: 125, Score: 0.00447\n",
      "Feature: 126, Score: 0.00000\n",
      "Feature: 127, Score: 0.00000\n",
      "Feature: 128, Score: 0.00122\n",
      "Feature: 129, Score: 0.01428\n",
      "Feature: 130, Score: 0.00218\n",
      "Feature: 131, Score: 0.00000\n",
      "Feature: 132, Score: 0.00304\n",
      "Feature: 133, Score: 0.00419\n",
      "Feature: 134, Score: 0.00304\n",
      "Feature: 135, Score: 0.07553\n",
      "Feature: 136, Score: 0.00000\n",
      "Feature: 137, Score: 0.01154\n",
      "Feature: 138, Score: 0.00000\n",
      "Feature: 139, Score: 0.00000\n",
      "Feature: 140, Score: 0.00297\n",
      "Feature: 141, Score: 0.00000\n",
      "Feature: 142, Score: 0.00000\n",
      "Feature: 143, Score: 0.00000\n",
      "Feature: 144, Score: 0.00000\n",
      "Feature: 145, Score: 0.00000\n",
      "Feature: 146, Score: 0.00000\n",
      "Feature: 147, Score: 0.00151\n",
      "Feature: 148, Score: 0.00000\n",
      "Feature: 149, Score: 0.00326\n",
      "Feature: 150, Score: 0.00137\n",
      "Feature: 151, Score: 0.00184\n",
      "Feature: 152, Score: 0.00128\n",
      "Feature: 153, Score: 0.00127\n",
      "Feature: 154, Score: 0.00000\n",
      "Feature: 155, Score: 0.00000\n",
      "Feature: 156, Score: 0.00296\n",
      "Feature: 157, Score: 0.00150\n",
      "Feature: 158, Score: 0.00000\n",
      "Feature: 159, Score: 0.00134\n",
      "Feature: 160, Score: 0.00194\n",
      "Feature: 161, Score: 0.00000\n",
      "Feature: 162, Score: 0.00142\n",
      "Feature: 163, Score: 0.00000\n",
      "Feature: 164, Score: 0.00143\n",
      "Feature: 165, Score: 0.00000\n",
      "Feature: 166, Score: 0.00274\n",
      "Feature: 167, Score: 0.00000\n",
      "Feature: 168, Score: 0.00194\n",
      "Feature: 169, Score: 0.00171\n",
      "Feature: 170, Score: 0.00994\n",
      "Feature: 171, Score: 0.21440\n",
      "Feature: 172, Score: 0.00404\n",
      "Feature: 173, Score: 0.00184\n",
      "Feature: 174, Score: 0.00000\n",
      "Feature: 175, Score: 0.00000\n",
      "Feature: 176, Score: 0.00000\n",
      "Feature: 177, Score: 0.00000\n",
      "Feature: 178, Score: 0.00000\n",
      "Feature: 179, Score: 0.00000\n",
      "Feature: 180, Score: 0.00000\n",
      "Feature: 181, Score: 0.00158\n",
      "Feature: 182, Score: 0.00000\n",
      "Feature: 183, Score: 0.00133\n",
      "Feature: 184, Score: 0.00000\n",
      "Feature: 185, Score: 0.00480\n",
      "Feature: 186, Score: 0.01625\n",
      "Feature: 187, Score: 0.00254\n",
      "Feature: 188, Score: 0.00355\n",
      "Feature: 189, Score: 0.00221\n",
      "Feature: 190, Score: 0.00000\n",
      "Feature: 191, Score: 0.00123\n",
      "Feature: 192, Score: 0.00393\n",
      "Feature: 193, Score: 0.01785\n"
     ]
    }
   ],
   "source": [
    "importance = model.feature_importances_\n",
    "\n",
    "for i, v in enumerate(importance):\n",
    "    print('Feature: %0d, Score: %.5f' %(i, v))"
   ]
  },
  {
   "cell_type": "code",
   "execution_count": 84,
   "id": "11099559",
   "metadata": {},
   "outputs": [
    {
     "data": {
      "text/plain": [
       "[0, 171, 135, 1, 7]"
      ]
     },
     "execution_count": 84,
     "metadata": {},
     "output_type": "execute_result"
    }
   ],
   "source": [
    "# print(dict(zip(train_X.columns, model.feature_importances_)))\n",
    "\n",
    "importance_features_dict = {}\n",
    "\n",
    "for i, v in enumerate(model.feature_importances_):\n",
    "    importance_features_dict[i] = v\n",
    "    \n",
    "importance_features_list = sorted(importance_features_dict,\n",
    "                                  key=importance_features_dict.get,\n",
    "                                  reverse=True)\n",
    "\n",
    "importance_features_list[:5]\n"
   ]
  },
  {
   "cell_type": "markdown",
   "id": "29356b84",
   "metadata": {},
   "source": [
    "### Features importance (It shows city_development_index, company_size, education_level, training_hours, and last_new_job are the top 5 features affecting candidate decision"
   ]
  },
  {
   "cell_type": "code",
   "execution_count": 86,
   "id": "55944e99",
   "metadata": {},
   "outputs": [
    {
     "name": "stdout",
     "output_type": "stream",
     "text": [
      "city_development_index\n",
      "company_size_0\n",
      "education_level_Graduate\n",
      "training_hours\n",
      "city_city_103\n",
      "city_city_160\n",
      "last_new_job_never\n",
      "company_type_Pvt Ltd\n",
      "relevant_experience_Has relevent experience\n"
     ]
    }
   ],
   "source": [
    "count = 0\n",
    "for i in importance_features_list:\n",
    "    if count == 9:\n",
    "        break\n",
    "    print(train_X.columns[i])\n",
    "    count += 1\n",
    "    \n",
    "# print(train_X.columns[1], train_X.columns[0],  train_X.columns[171], train_X.columns[135], train_X.columns[137])"
   ]
  },
  {
   "cell_type": "markdown",
   "id": "c90b9385",
   "metadata": {},
   "source": [
    "### Model prediction on test set"
   ]
  },
  {
   "cell_type": "code",
   "execution_count": 95,
   "id": "ba58b29d",
   "metadata": {},
   "outputs": [
    {
     "data": {
      "text/html": [
       "<div>\n",
       "<style scoped>\n",
       "    .dataframe tbody tr th:only-of-type {\n",
       "        vertical-align: middle;\n",
       "    }\n",
       "\n",
       "    .dataframe tbody tr th {\n",
       "        vertical-align: top;\n",
       "    }\n",
       "\n",
       "    .dataframe thead th {\n",
       "        text-align: right;\n",
       "    }\n",
       "</style>\n",
       "<table border=\"1\" class=\"dataframe\">\n",
       "  <thead>\n",
       "    <tr style=\"text-align: right;\">\n",
       "      <th></th>\n",
       "      <th>0</th>\n",
       "    </tr>\n",
       "  </thead>\n",
       "  <tbody>\n",
       "    <tr>\n",
       "      <th>0</th>\n",
       "      <td>0.0</td>\n",
       "    </tr>\n",
       "    <tr>\n",
       "      <th>1</th>\n",
       "      <td>0.0</td>\n",
       "    </tr>\n",
       "    <tr>\n",
       "      <th>2</th>\n",
       "      <td>1.0</td>\n",
       "    </tr>\n",
       "    <tr>\n",
       "      <th>3</th>\n",
       "      <td>0.0</td>\n",
       "    </tr>\n",
       "    <tr>\n",
       "      <th>4</th>\n",
       "      <td>0.0</td>\n",
       "    </tr>\n",
       "    <tr>\n",
       "      <th>...</th>\n",
       "      <td>...</td>\n",
       "    </tr>\n",
       "    <tr>\n",
       "      <th>2124</th>\n",
       "      <td>0.0</td>\n",
       "    </tr>\n",
       "    <tr>\n",
       "      <th>2125</th>\n",
       "      <td>0.0</td>\n",
       "    </tr>\n",
       "    <tr>\n",
       "      <th>2126</th>\n",
       "      <td>0.0</td>\n",
       "    </tr>\n",
       "    <tr>\n",
       "      <th>2127</th>\n",
       "      <td>0.0</td>\n",
       "    </tr>\n",
       "    <tr>\n",
       "      <th>2128</th>\n",
       "      <td>0.0</td>\n",
       "    </tr>\n",
       "  </tbody>\n",
       "</table>\n",
       "<p>2129 rows × 1 columns</p>\n",
       "</div>"
      ],
      "text/plain": [
       "        0\n",
       "0     0.0\n",
       "1     0.0\n",
       "2     1.0\n",
       "3     0.0\n",
       "4     0.0\n",
       "...   ...\n",
       "2124  0.0\n",
       "2125  0.0\n",
       "2126  0.0\n",
       "2127  0.0\n",
       "2128  0.0\n",
       "\n",
       "[2129 rows x 1 columns]"
      ]
     },
     "execution_count": 95,
     "metadata": {},
     "output_type": "execute_result"
    }
   ],
   "source": [
    "job_test_predicted = model.predict(test_X)\n",
    "job_test_predicted = pd.DataFrame(job_test_predicted)\n",
    "job_test_predicted"
   ]
  },
  {
   "cell_type": "code",
   "execution_count": 112,
   "id": "7cd746d9",
   "metadata": {
    "scrolled": true
   },
   "outputs": [
    {
     "data": {
      "text/html": [
       "<div>\n",
       "<style scoped>\n",
       "    .dataframe tbody tr th:only-of-type {\n",
       "        vertical-align: middle;\n",
       "    }\n",
       "\n",
       "    .dataframe tbody tr th {\n",
       "        vertical-align: top;\n",
       "    }\n",
       "\n",
       "    .dataframe thead th {\n",
       "        text-align: right;\n",
       "    }\n",
       "</style>\n",
       "<table border=\"1\" class=\"dataframe\">\n",
       "  <thead>\n",
       "    <tr style=\"text-align: right;\">\n",
       "      <th></th>\n",
       "      <th>enrollee_id</th>\n",
       "      <th>target</th>\n",
       "    </tr>\n",
       "  </thead>\n",
       "  <tbody>\n",
       "    <tr>\n",
       "      <th>0</th>\n",
       "      <td>32403</td>\n",
       "      <td>0.0</td>\n",
       "    </tr>\n",
       "    <tr>\n",
       "      <th>1</th>\n",
       "      <td>9858</td>\n",
       "      <td>0.0</td>\n",
       "    </tr>\n",
       "    <tr>\n",
       "      <th>2</th>\n",
       "      <td>31806</td>\n",
       "      <td>1.0</td>\n",
       "    </tr>\n",
       "    <tr>\n",
       "      <th>3</th>\n",
       "      <td>27385</td>\n",
       "      <td>0.0</td>\n",
       "    </tr>\n",
       "    <tr>\n",
       "      <th>4</th>\n",
       "      <td>27724</td>\n",
       "      <td>0.0</td>\n",
       "    </tr>\n",
       "    <tr>\n",
       "      <th>...</th>\n",
       "      <td>...</td>\n",
       "      <td>...</td>\n",
       "    </tr>\n",
       "    <tr>\n",
       "      <th>2124</th>\n",
       "      <td>1289</td>\n",
       "      <td>0.0</td>\n",
       "    </tr>\n",
       "    <tr>\n",
       "      <th>2125</th>\n",
       "      <td>195</td>\n",
       "      <td>0.0</td>\n",
       "    </tr>\n",
       "    <tr>\n",
       "      <th>2126</th>\n",
       "      <td>31762</td>\n",
       "      <td>0.0</td>\n",
       "    </tr>\n",
       "    <tr>\n",
       "      <th>2127</th>\n",
       "      <td>7873</td>\n",
       "      <td>0.0</td>\n",
       "    </tr>\n",
       "    <tr>\n",
       "      <th>2128</th>\n",
       "      <td>12215</td>\n",
       "      <td>0.0</td>\n",
       "    </tr>\n",
       "  </tbody>\n",
       "</table>\n",
       "<p>2129 rows × 2 columns</p>\n",
       "</div>"
      ],
      "text/plain": [
       "      enrollee_id  target\n",
       "0           32403     0.0\n",
       "1            9858     0.0\n",
       "2           31806     1.0\n",
       "3           27385     0.0\n",
       "4           27724     0.0\n",
       "...           ...     ...\n",
       "2124         1289     0.0\n",
       "2125          195     0.0\n",
       "2126        31762     0.0\n",
       "2127         7873     0.0\n",
       "2128        12215     0.0\n",
       "\n",
       "[2129 rows x 2 columns]"
      ]
     },
     "execution_count": 112,
     "metadata": {},
     "output_type": "execute_result"
    }
   ],
   "source": [
    "employee_predicted = pd.concat([employee_predicted, job_test_predicted], axis=1)\n",
    "employee_predicted = employee_predicted.iloc[:, :2]\n",
    "employee_predicted = employee_predicted.rename(columns={0: 'target'})\n",
    "# employee_predicted = employee_predicted.drop(columns={'target'})\n",
    "# employee_predicted['target'] = employee_predicted['target'].map({1.0: 'Looking', 0.0: 'Not Looking'})\n",
    "employee_predicted"
   ]
  },
  {
   "cell_type": "code",
   "execution_count": 127,
   "id": "c64b8256",
   "metadata": {},
   "outputs": [
    {
     "name": "stdout",
     "output_type": "stream",
     "text": [
      "Total: 2129\n",
      "Looking for a job change:  611\n",
      "Not loking for a job change:  1518\n"
     ]
    }
   ],
   "source": [
    "# 0 – Not looking for job change, 1 – Looking for a job change\n",
    "print(f'Total: {employee_predicted.shape[0]}')\n",
    "print('Looking for a job change: ', employee_predicted[employee_predicted['target']==1].shape[0])\n",
    "print('Not loking for a job change: ', employee_predicted[employee_predicted['target']==0].shape[0])"
   ]
  },
  {
   "cell_type": "markdown",
   "id": "e3c891d5",
   "metadata": {},
   "source": [
    "### These below lines is just setting and installation"
   ]
  },
  {
   "cell_type": "code",
   "execution_count": 55,
   "id": "065cfa7d",
   "metadata": {},
   "outputs": [
    {
     "name": "stdout",
     "output_type": "stream",
     "text": [
      "['city_development_index', 'training_hours', 'target', 'city_city_1', 'city_city_10', 'city_city_100', 'city_city_101', 'city_city_102', 'city_city_103', 'city_city_104', 'city_city_105', 'city_city_106', 'city_city_107', 'city_city_109', 'city_city_11', 'city_city_111', 'city_city_114', 'city_city_115', 'city_city_116', 'city_city_117', 'city_city_118', 'city_city_12', 'city_city_120', 'city_city_121', 'city_city_123', 'city_city_126', 'city_city_127', 'city_city_128', 'city_city_129', 'city_city_13', 'city_city_131', 'city_city_133', 'city_city_134', 'city_city_136', 'city_city_138', 'city_city_139', 'city_city_14', 'city_city_140', 'city_city_141', 'city_city_142', 'city_city_143', 'city_city_144', 'city_city_145', 'city_city_146', 'city_city_149', 'city_city_150', 'city_city_152', 'city_city_155', 'city_city_157', 'city_city_158', 'city_city_159', 'city_city_16', 'city_city_160', 'city_city_162', 'city_city_165', 'city_city_166', 'city_city_167', 'city_city_171', 'city_city_173', 'city_city_175', 'city_city_176', 'city_city_179', 'city_city_18', 'city_city_180', 'city_city_19', 'city_city_2', 'city_city_20', 'city_city_21', 'city_city_23', 'city_city_24', 'city_city_25', 'city_city_26', 'city_city_27', 'city_city_28', 'city_city_30', 'city_city_31', 'city_city_33', 'city_city_36', 'city_city_37', 'city_city_39', 'city_city_40', 'city_city_41', 'city_city_42', 'city_city_43', 'city_city_44', 'city_city_45', 'city_city_46', 'city_city_48', 'city_city_50', 'city_city_53', 'city_city_54', 'city_city_55', 'city_city_57', 'city_city_59', 'city_city_61', 'city_city_62', 'city_city_64', 'city_city_65', 'city_city_67', 'city_city_69', 'city_city_7', 'city_city_70', 'city_city_71', 'city_city_72', 'city_city_73', 'city_city_74', 'city_city_75', 'city_city_76', 'city_city_77', 'city_city_78', 'city_city_79', 'city_city_8', 'city_city_80', 'city_city_81', 'city_city_82', 'city_city_83', 'city_city_84', 'city_city_89', 'city_city_9', 'city_city_90', 'city_city_91', 'city_city_93', 'city_city_94', 'city_city_97', 'city_city_98', 'city_city_99', 'gender_Female', 'gender_Male', 'gender_No data', 'gender_Other', 'relevant_experience_Has relevent experience', 'relevant_experience_No relevent experience', 'enrolled_university_Full time course', 'enrolled_university_No data', 'enrolled_university_Part time course', 'enrolled_university_no_enrollment', 'education_level_Graduate', 'education_level_High School', 'education_level_Masters', 'education_level_No data', 'education_level_Phd', 'education_level_Primary School', 'major_discipline_Arts', 'major_discipline_Business Degree', 'major_discipline_Humanities', 'major_discipline_No Major', 'major_discipline_No data', 'major_discipline_Other', 'major_discipline_STEM', 'experience_0', 'experience_1', 'experience_10', 'experience_11', 'experience_12', 'experience_13', 'experience_14', 'experience_15', 'experience_16', 'experience_17', 'experience_18', 'experience_19', 'experience_2', 'experience_20', 'experience_3', 'experience_4', 'experience_5', 'experience_6', 'experience_7', 'experience_8', 'experience_9', 'experience_<1', 'experience_>20', 'company_size_0', 'company_size_10/49', 'company_size_100-500', 'company_size_1000-4999', 'company_size_10000+', 'company_size_50-99', 'company_size_500-999', 'company_size_5000-9999', 'company_size_<10', 'company_type_Early Stage Startup', 'company_type_Funded Startup', 'company_type_NGO', 'company_type_No data', 'company_type_Other', 'company_type_Public Sector', 'company_type_Pvt Ltd', 'last_new_job_-1', 'last_new_job_1', 'last_new_job_2', 'last_new_job_3', 'last_new_job_4', 'last_new_job_>4', 'last_new_job_never']\n"
     ]
    }
   ],
   "source": [
    "print(job_train.columns.tolist())"
   ]
  },
  {
   "cell_type": "code",
   "execution_count": 476,
   "id": "ed8388ff",
   "metadata": {},
   "outputs": [],
   "source": [
    "pd.set_option('display.max_columns', 200)"
   ]
  },
  {
   "cell_type": "code",
   "execution_count": 11,
   "id": "840a1984",
   "metadata": {},
   "outputs": [
    {
     "name": "stdout",
     "output_type": "stream",
     "text": [
      "Collecting missingnoNote: you may need to restart the kernel to use updated packages.\n",
      "  Downloading missingno-0.4.2-py3-none-any.whl (9.7 kB)\n",
      "Requirement already satisfied: seaborn in c:\\users\\z-service\\anaconda3\\lib\\site-packages (from missingno) (0.11.1)\n",
      "Requirement already satisfied: matplotlib in c:\\users\\z-service\\anaconda3\\lib\\site-packages (from missingno) (3.3.4)\n",
      "Requirement already satisfied: numpy in c:\\users\\z-service\\anaconda3\\lib\\site-packages (from missingno) (1.19.2)\n",
      "Requirement already satisfied: scipy in c:\\users\\z-service\\anaconda3\\lib\\site-packages (from missingno) (1.6.2)\n",
      "Requirement already satisfied: cycler>=0.10 in c:\\users\\z-service\\anaconda3\\lib\\site-packages (from matplotlib->missingno) (0.10.0)\n",
      "Requirement already satisfied: kiwisolver>=1.0.1 in c:\\users\\z-service\\anaconda3\\lib\\site-packages (from matplotlib->missingno) (1.3.1)\n",
      "Requirement already satisfied: python-dateutil>=2.1 in c:\\users\\z-service\\anaconda3\\lib\\site-packages (from matplotlib->missingno) (2.8.1)\n",
      "Requirement already satisfied: pyparsing!=2.0.4,!=2.1.2,!=2.1.6,>=2.0.3 in c:\\users\\z-service\\anaconda3\\lib\\site-packages (from matplotlib->missingno) (2.4.7)\n",
      "Requirement already satisfied: pillow>=6.2.0 in c:\\users\\z-service\\anaconda3\\lib\\site-packages (from matplotlib->missingno) (8.2.0)\n",
      "Requirement already satisfied: six in c:\\users\\z-service\\anaconda3\\lib\\site-packages (from cycler>=0.10->matplotlib->missingno) (1.15.0)\n",
      "Requirement already satisfied: pandas>=0.23 in c:\\users\\z-service\\anaconda3\\lib\\site-packages (from seaborn->missingno) (1.2.3)\n",
      "Requirement already satisfied: pytz>=2017.3 in c:\\users\\z-service\\anaconda3\\lib\\site-packages (from pandas>=0.23->seaborn->missingno) (2021.1)\n",
      "Installing collected packages: missingno\n",
      "Successfully installed missingno-0.4.2\n",
      "\n"
     ]
    },
    {
     "name": "stderr",
     "output_type": "stream",
     "text": [
      "WARNING: Error parsing requirements for pytest-doctestplus: [Errno 2] No such file or directory: 'c:\\\\users\\\\z-service\\\\anaconda3\\\\lib\\\\site-packages\\\\pytest_doctestplus-0.3.0.dist-info\\\\METADATA'\n",
      "WARNING: Error parsing requirements for path-py: [Errno 2] No such file or directory: 'c:\\\\users\\\\z-service\\\\anaconda3\\\\lib\\\\site-packages\\\\path.py-12.0.1.dist-info\\\\METADATA'\n"
     ]
    }
   ],
   "source": [
    "pip install missingno"
   ]
  }
 ],
 "metadata": {
  "kernelspec": {
   "display_name": "Python 3",
   "language": "python",
   "name": "python3"
  },
  "language_info": {
   "codemirror_mode": {
    "name": "ipython",
    "version": 3
   },
   "file_extension": ".py",
   "mimetype": "text/x-python",
   "name": "python",
   "nbconvert_exporter": "python",
   "pygments_lexer": "ipython3",
   "version": "3.7.10"
  }
 },
 "nbformat": 4,
 "nbformat_minor": 5
}
