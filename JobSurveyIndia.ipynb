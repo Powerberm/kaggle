{
 "cells": [
  {
   "cell_type": "markdown",
   "id": "4bdde762",
   "metadata": {},
   "source": [
    "### Job India Survey"
   ]
  },
  {
   "cell_type": "markdown",
   "id": "19ef3f5f",
   "metadata": {},
   "source": [
    "Columns <br>\n",
    "Employment_Sector -> Choice Of Sector Of Employment <br>\n",
    "Employment_Background -> Choice Of Background Of Employment <br>\n",
    "Public_Dealing -> Would Public Dealing Be A Problem For You? <br>\n",
    "Degree -> Are You Pursuing A Degree That Is Necessary For Your Ideal Choice Of Employment? <br>\n",
    "IdealNumberOfWorkdays -> Ideal Number Of Work Days In A Week <br>\n",
    "IdealYearlyIncome -> Ideal Yearly Income In Rupees"
   ]
  },
  {
   "cell_type": "markdown",
   "id": "f11fe7a1",
   "metadata": {},
   "source": [
    "### Libraries "
   ]
  },
  {
   "cell_type": "code",
   "execution_count": 113,
   "id": "a58f8d23",
   "metadata": {},
   "outputs": [],
   "source": [
    "import pandas as pd\n",
    "import matplotlib.pyplot as plt\n",
    "import seaborn as sns\n",
    "import numpy as np\n",
    "from sklearn.preprocessing import OneHotEncoder\n",
    "from sklearn.model_selection import train_test_split\n",
    "from sklearn.model_selection import cross_val_score\n",
    "from sklearn.ensemble import RandomForestClassifier\n",
    "from sklearn.tree import DecisionTreeClassifier\n",
    "from sklearn import svm\n",
    "from sklearn.neural_network import MLPClassifier"
   ]
  },
  {
   "cell_type": "markdown",
   "id": "7d47d036",
   "metadata": {},
   "source": [
    "### Read the file"
   ]
  },
  {
   "cell_type": "code",
   "execution_count": 32,
   "id": "05072ed4",
   "metadata": {},
   "outputs": [
    {
     "data": {
      "text/html": [
       "<div>\n",
       "<style scoped>\n",
       "    .dataframe tbody tr th:only-of-type {\n",
       "        vertical-align: middle;\n",
       "    }\n",
       "\n",
       "    .dataframe tbody tr th {\n",
       "        vertical-align: top;\n",
       "    }\n",
       "\n",
       "    .dataframe thead th {\n",
       "        text-align: right;\n",
       "    }\n",
       "</style>\n",
       "<table border=\"1\" class=\"dataframe\">\n",
       "  <thead>\n",
       "    <tr style=\"text-align: right;\">\n",
       "      <th></th>\n",
       "      <th>Employment Sector</th>\n",
       "      <th>Employment Background</th>\n",
       "      <th>Public Dealing</th>\n",
       "      <th>Degree</th>\n",
       "      <th>IdealNumberOfWorkdays</th>\n",
       "      <th>IdealYearlyIncome</th>\n",
       "    </tr>\n",
       "  </thead>\n",
       "  <tbody>\n",
       "    <tr>\n",
       "      <th>0</th>\n",
       "      <td>Private Sector</td>\n",
       "      <td>Technical</td>\n",
       "      <td>No</td>\n",
       "      <td>Yes</td>\n",
       "      <td>4.0</td>\n",
       "      <td>More Than 1500K</td>\n",
       "    </tr>\n",
       "    <tr>\n",
       "      <th>1</th>\n",
       "      <td>Private Sector</td>\n",
       "      <td>Art</td>\n",
       "      <td>No</td>\n",
       "      <td>Yes</td>\n",
       "      <td>4.0</td>\n",
       "      <td>600K-900K</td>\n",
       "    </tr>\n",
       "    <tr>\n",
       "      <th>2</th>\n",
       "      <td>Government Sector</td>\n",
       "      <td>Technical</td>\n",
       "      <td>No</td>\n",
       "      <td>Yes</td>\n",
       "      <td>6.0</td>\n",
       "      <td>900K-1200K</td>\n",
       "    </tr>\n",
       "    <tr>\n",
       "      <th>3</th>\n",
       "      <td>Government Sector</td>\n",
       "      <td>Non-Technical</td>\n",
       "      <td>Yes</td>\n",
       "      <td>Yes</td>\n",
       "      <td>4.0</td>\n",
       "      <td>900K-1200K</td>\n",
       "    </tr>\n",
       "    <tr>\n",
       "      <th>4</th>\n",
       "      <td>Private Sector</td>\n",
       "      <td>Technical</td>\n",
       "      <td>No</td>\n",
       "      <td>Yes</td>\n",
       "      <td>5.0</td>\n",
       "      <td>1200K-1500K</td>\n",
       "    </tr>\n",
       "  </tbody>\n",
       "</table>\n",
       "</div>"
      ],
      "text/plain": [
       "   Employment Sector Employment Background Public Dealing Degree  \\\n",
       "0     Private Sector             Technical             No    Yes   \n",
       "1     Private Sector                  Art             No    Yes    \n",
       "2  Government Sector             Technical             No    Yes   \n",
       "3  Government Sector         Non-Technical            Yes   Yes    \n",
       "4     Private Sector             Technical             No    Yes   \n",
       "\n",
       "   IdealNumberOfWorkdays IdealYearlyIncome  \n",
       "0                    4.0   More Than 1500K  \n",
       "1                    4.0         600K-900K  \n",
       "2                    6.0        900K-1200K  \n",
       "3                    4.0        900K-1200K  \n",
       "4                    5.0       1200K-1500K  "
      ]
     },
     "execution_count": 32,
     "metadata": {},
     "output_type": "execute_result"
    }
   ],
   "source": [
    "job_india = pd.read_csv('jobsurveyindia.csv')\n",
    "job_india = job_india.drop(columns=['Unnamed: 0'])\n",
    "job_india.head()"
   ]
  },
  {
   "cell_type": "markdown",
   "id": "2430a1bf",
   "metadata": {},
   "source": [
    "### Add underscore for columns with a white space"
   ]
  },
  {
   "cell_type": "code",
   "execution_count": 33,
   "id": "ed1997bb",
   "metadata": {},
   "outputs": [
    {
     "data": {
      "text/plain": [
       "Index(['Employment_Sector', 'Employment_Background', 'Public_Dealing',\n",
       "       'Degree', 'IdealNumberOfWorkdays', 'IdealYearlyIncome'],\n",
       "      dtype='object')"
      ]
     },
     "execution_count": 33,
     "metadata": {},
     "output_type": "execute_result"
    }
   ],
   "source": [
    "i = 0\n",
    "cols = [col for col in job_india.columns if ' ' in col]\n",
    "for col in job_india.columns:\n",
    "    if ' ' in col:\n",
    "        col = col.replace(' ', '_')\n",
    "        job_india = job_india.rename(columns={job_india.columns[i]: col})\n",
    "    i+=1\n",
    "    \n",
    "job_india.columns"
   ]
  },
  {
   "cell_type": "markdown",
   "id": "742d36ca",
   "metadata": {},
   "source": [
    "### Survey data"
   ]
  },
  {
   "cell_type": "code",
   "execution_count": 34,
   "id": "81d8d591",
   "metadata": {},
   "outputs": [
    {
     "data": {
      "text/html": [
       "<div>\n",
       "<style scoped>\n",
       "    .dataframe tbody tr th:only-of-type {\n",
       "        vertical-align: middle;\n",
       "    }\n",
       "\n",
       "    .dataframe tbody tr th {\n",
       "        vertical-align: top;\n",
       "    }\n",
       "\n",
       "    .dataframe thead th {\n",
       "        text-align: right;\n",
       "    }\n",
       "</style>\n",
       "<table border=\"1\" class=\"dataframe\">\n",
       "  <thead>\n",
       "    <tr style=\"text-align: right;\">\n",
       "      <th></th>\n",
       "      <th>Employment_Sector</th>\n",
       "      <th>Employment_Background</th>\n",
       "      <th>Public_Dealing</th>\n",
       "      <th>Degree</th>\n",
       "      <th>IdealNumberOfWorkdays</th>\n",
       "      <th>IdealYearlyIncome</th>\n",
       "    </tr>\n",
       "  </thead>\n",
       "  <tbody>\n",
       "    <tr>\n",
       "      <th>0</th>\n",
       "      <td>Private Sector</td>\n",
       "      <td>Technical</td>\n",
       "      <td>No</td>\n",
       "      <td>Yes</td>\n",
       "      <td>4.0</td>\n",
       "      <td>More Than 1500K</td>\n",
       "    </tr>\n",
       "    <tr>\n",
       "      <th>1</th>\n",
       "      <td>Private Sector</td>\n",
       "      <td>Art</td>\n",
       "      <td>No</td>\n",
       "      <td>Yes</td>\n",
       "      <td>4.0</td>\n",
       "      <td>600K-900K</td>\n",
       "    </tr>\n",
       "    <tr>\n",
       "      <th>2</th>\n",
       "      <td>Government Sector</td>\n",
       "      <td>Technical</td>\n",
       "      <td>No</td>\n",
       "      <td>Yes</td>\n",
       "      <td>6.0</td>\n",
       "      <td>900K-1200K</td>\n",
       "    </tr>\n",
       "    <tr>\n",
       "      <th>3</th>\n",
       "      <td>Government Sector</td>\n",
       "      <td>Non-Technical</td>\n",
       "      <td>Yes</td>\n",
       "      <td>Yes</td>\n",
       "      <td>4.0</td>\n",
       "      <td>900K-1200K</td>\n",
       "    </tr>\n",
       "    <tr>\n",
       "      <th>4</th>\n",
       "      <td>Private Sector</td>\n",
       "      <td>Technical</td>\n",
       "      <td>No</td>\n",
       "      <td>Yes</td>\n",
       "      <td>5.0</td>\n",
       "      <td>1200K-1500K</td>\n",
       "    </tr>\n",
       "  </tbody>\n",
       "</table>\n",
       "</div>"
      ],
      "text/plain": [
       "   Employment_Sector Employment_Background Public_Dealing Degree  \\\n",
       "0     Private Sector             Technical             No    Yes   \n",
       "1     Private Sector                  Art             No    Yes    \n",
       "2  Government Sector             Technical             No    Yes   \n",
       "3  Government Sector         Non-Technical            Yes   Yes    \n",
       "4     Private Sector             Technical             No    Yes   \n",
       "\n",
       "   IdealNumberOfWorkdays IdealYearlyIncome  \n",
       "0                    4.0   More Than 1500K  \n",
       "1                    4.0         600K-900K  \n",
       "2                    6.0        900K-1200K  \n",
       "3                    4.0        900K-1200K  \n",
       "4                    5.0       1200K-1500K  "
      ]
     },
     "execution_count": 34,
     "metadata": {},
     "output_type": "execute_result"
    }
   ],
   "source": [
    "job_india.head()"
   ]
  },
  {
   "cell_type": "code",
   "execution_count": 35,
   "id": "6f8a10ed",
   "metadata": {},
   "outputs": [
    {
     "data": {
      "text/plain": [
       "(400, 6)"
      ]
     },
     "execution_count": 35,
     "metadata": {},
     "output_type": "execute_result"
    }
   ],
   "source": [
    "job_india.shape"
   ]
  },
  {
   "cell_type": "code",
   "execution_count": 36,
   "id": "d4f0e3b3",
   "metadata": {},
   "outputs": [
    {
     "data": {
      "text/plain": [
       "Index(['Employment_Sector', 'Employment_Background', 'Public_Dealing',\n",
       "       'Degree', 'IdealNumberOfWorkdays', 'IdealYearlyIncome'],\n",
       "      dtype='object')"
      ]
     },
     "execution_count": 36,
     "metadata": {},
     "output_type": "execute_result"
    }
   ],
   "source": [
    "job_india.columns"
   ]
  },
  {
   "cell_type": "code",
   "execution_count": 37,
   "id": "f878a16f",
   "metadata": {
    "scrolled": false
   },
   "outputs": [
    {
     "data": {
      "text/plain": [
       "Employment_Sector         object\n",
       "Employment_Background     object\n",
       "Public_Dealing            object\n",
       "Degree                    object\n",
       "IdealNumberOfWorkdays    float64\n",
       "IdealYearlyIncome         object\n",
       "dtype: object"
      ]
     },
     "execution_count": 37,
     "metadata": {},
     "output_type": "execute_result"
    }
   ],
   "source": [
    "job_india.dtypes"
   ]
  },
  {
   "cell_type": "code",
   "execution_count": 38,
   "id": "f6f5d2e3",
   "metadata": {
    "scrolled": true
   },
   "outputs": [
    {
     "name": "stdout",
     "output_type": "stream",
     "text": [
      "Employment_Sector: ['Private Sector' 'Government Sector' 'Entrepreneurship']\n",
      "Employment_Background: ['Technical' 'Art ' 'Non-Technical' 'Art']\n",
      "Public_Dealing: ['No' 'No ' 'Yes']\n",
      "Degree: ['Yes' 'Yes ' 'No']\n",
      "IdealNumberOfWorkdays: [4. 6. 5. 7.]\n",
      "IdealYearlyIncome: ['More Than 1500K' '600K-900K' '900K-1200K' '1200K-1500K']\n"
     ]
    }
   ],
   "source": [
    "for i in job_india.columns:\n",
    "    print(f'{i}: {job_india[i].unique()}')"
   ]
  },
  {
   "cell_type": "markdown",
   "id": "16d27ecb",
   "metadata": {},
   "source": [
    "### Strip data"
   ]
  },
  {
   "cell_type": "code",
   "execution_count": 39,
   "id": "aa7dc696",
   "metadata": {},
   "outputs": [],
   "source": [
    "'''\n",
    "    Another better solution: # job_india['Degree'] = job_india['Degree'].apply(lambda x: x.strip())\n",
    "'''\n",
    "\n",
    "def valueStrip(col_name):\n",
    "    for col in col_name:\n",
    "        job_india[col] = job_india[col].str.strip()\n",
    "\n",
    "valueStrip(['Degree', 'Public_Dealing', 'Employment_Background'])"
   ]
  },
  {
   "cell_type": "code",
   "execution_count": 40,
   "id": "e66f5f7c",
   "metadata": {
    "scrolled": true
   },
   "outputs": [
    {
     "name": "stdout",
     "output_type": "stream",
     "text": [
      "Employment_Sector: ['Private Sector' 'Government Sector' 'Entrepreneurship']\n",
      "Employment_Background: ['Technical' 'Art' 'Non-Technical']\n",
      "Public_Dealing: ['No' 'Yes']\n",
      "Degree: ['Yes' 'No']\n",
      "IdealNumberOfWorkdays: [4. 6. 5. 7.]\n",
      "IdealYearlyIncome: ['More Than 1500K' '600K-900K' '900K-1200K' '1200K-1500K']\n"
     ]
    }
   ],
   "source": [
    "for i in job_india.columns:\n",
    "    print(f'{i}: {job_india[i].unique()}')"
   ]
  },
  {
   "cell_type": "markdown",
   "id": "ff916b6f",
   "metadata": {},
   "source": [
    "### Check null"
   ]
  },
  {
   "cell_type": "code",
   "execution_count": 41,
   "id": "5cb413b3",
   "metadata": {},
   "outputs": [
    {
     "data": {
      "text/plain": [
       "Employment_Sector        False\n",
       "Employment_Background    False\n",
       "Public_Dealing           False\n",
       "Degree                   False\n",
       "IdealNumberOfWorkdays    False\n",
       "IdealYearlyIncome        False\n",
       "dtype: bool"
      ]
     },
     "execution_count": 41,
     "metadata": {},
     "output_type": "execute_result"
    }
   ],
   "source": [
    "# Check null columns\n",
    "job_india.isnull().any()"
   ]
  },
  {
   "cell_type": "markdown",
   "id": "d52f8cf6",
   "metadata": {},
   "source": [
    "### Groupby and count"
   ]
  },
  {
   "cell_type": "code",
   "execution_count": 42,
   "id": "7571d4ef",
   "metadata": {
    "scrolled": true
   },
   "outputs": [
    {
     "name": "stdout",
     "output_type": "stream",
     "text": [
      "Employment_Sector\n",
      "Entrepreneurship      76\n",
      "Government Sector    189\n",
      "Private Sector       135\n",
      "Name: Employment_Sector, dtype: int64\n",
      "\n",
      "Employment_Background\n",
      "Art               62\n",
      "Non-Technical    222\n",
      "Technical        116\n",
      "Name: Employment_Background, dtype: int64\n",
      "\n",
      "Public_Dealing\n",
      "No     205\n",
      "Yes    195\n",
      "Name: Public_Dealing, dtype: int64\n",
      "\n",
      "Degree\n",
      "No     159\n",
      "Yes    241\n",
      "Name: Degree, dtype: int64\n",
      "\n",
      "IdealNumberOfWorkdays\n",
      "4.0    136\n",
      "5.0    182\n",
      "6.0     67\n",
      "7.0     15\n",
      "Name: IdealNumberOfWorkdays, dtype: int64\n",
      "\n",
      "IdealYearlyIncome\n",
      "1200K-1500K        102\n",
      "600K-900K           65\n",
      "900K-1200K         162\n",
      "More Than 1500K     71\n",
      "Name: IdealYearlyIncome, dtype: int64\n",
      "\n"
     ]
    }
   ],
   "source": [
    "for i in job_india.columns:\n",
    "    print(job_india.groupby([i])[i].count())\n",
    "    print('')"
   ]
  },
  {
   "cell_type": "markdown",
   "id": "083326ab",
   "metadata": {},
   "source": [
    "### Data Visualization"
   ]
  },
  {
   "cell_type": "code",
   "execution_count": 192,
   "id": "7a149dbb",
   "metadata": {},
   "outputs": [
    {
     "data": {
      "text/plain": [
       "<seaborn.axisgrid.FacetGrid at 0x1f56a88dec8>"
      ]
     },
     "execution_count": 192,
     "metadata": {},
     "output_type": "execute_result"
    },
    {
     "data": {
      "image/png": "[encoded data removed]",
      "text/plain": [
       "<Figure size 360x360 with 1 Axes>"
      ]
     },
     "metadata": {
      "needs_background": "light"
     },
     "output_type": "display_data"
    }
   ],
   "source": [
    "# Number of employment sector\n",
    "sns.displot(data=job_india, x='Employment_Sector', color='orange', kde=False)"
   ]
  },
  {
   "cell_type": "code",
   "execution_count": 196,
   "id": "ecbe87ed",
   "metadata": {},
   "outputs": [
    {
     "data": {
      "text/plain": [
       "<seaborn.axisgrid.FacetGrid at 0x1f56ea4eb48>"
      ]
     },
     "execution_count": 196,
     "metadata": {},
     "output_type": "execute_result"
    },
    {
     "data": {
      "image/png": "[encoded data removed]",
      "text/plain": [
       "<Figure size 360x360 with 1 Axes>"
      ]
     },
     "metadata": {
      "needs_background": "light"
     },
     "output_type": "display_data"
    }
   ],
   "source": [
    "# Number of degree\n",
    "sns.displot(data=job_india, x='Degree', color='grey')\n",
    "# Most indian people pursue to have a degree."
   ]
  },
  {
   "cell_type": "code",
   "execution_count": 166,
   "id": "f7f04fc2",
   "metadata": {},
   "outputs": [
    {
     "data": {
      "text/plain": [
       "<seaborn.axisgrid.FacetGrid at 0x1f569264208>"
      ]
     },
     "execution_count": 166,
     "metadata": {},
     "output_type": "execute_result"
    },
    {
     "data": {
      "image/png": "[encoded data removed]",
      "text/plain": [
       "<Figure size 720x360 with 2 Axes>"
      ]
     },
     "metadata": {
      "needs_background": "light"
     },
     "output_type": "display_data"
    }
   ],
   "source": [
    "sns.displot(data=job_india, x='Employment_Sector', col='Degree', kde=False)\n",
    "# Indian people pursuing degree focus on private sector while indian people who are not pursuing degree focus on government\n",
    "# sector."
   ]
  },
  {
   "cell_type": "code",
   "execution_count": 189,
   "id": "047008d1",
   "metadata": {},
   "outputs": [
    {
     "data": {
      "text/plain": [
       "<seaborn.axisgrid.FacetGrid at 0x1f56a552e48>"
      ]
     },
     "execution_count": 189,
     "metadata": {},
     "output_type": "execute_result"
    },
    {
     "data": {
      "image/png": "[encoded data removed]",
      "text/plain": [
       "<Figure size 1080x360 with 3 Axes>"
      ]
     },
     "metadata": {
      "needs_background": "light"
     },
     "output_type": "display_data"
    }
   ],
   "source": [
    "sns.displot(data=job_india, x='Employment_Background', col='Employment_Sector', color='pink', kde=False)\n",
    "# Government Sector and entrepreneurship have a number of non-technical employment background mostly.\n",
    "# Private Sector has the number of technique and non-technique equally."
   ]
  },
  {
   "cell_type": "code",
   "execution_count": 190,
   "id": "195f8428",
   "metadata": {
    "scrolled": true
   },
   "outputs": [
    {
     "data": {
      "text/plain": [
       "<seaborn.axisgrid.FacetGrid at 0x1f56e132388>"
      ]
     },
     "execution_count": 190,
     "metadata": {},
     "output_type": "execute_result"
    },
    {
     "data": {
      "image/png": "[encoded data removed]",
      "text/plain": [
       "<Figure size 1440x360 with 4 Axes>"
      ]
     },
     "metadata": {
      "needs_background": "light"
     },
     "output_type": "display_data"
    }
   ],
   "source": [
    "sns.displot(data=job_india, x='Degree', col='IdealYearlyIncome', color='red', kde=False)\n",
    "# Most indian people want to receive 900K-1200K yearly income whether they have degree or not."
   ]
  },
  {
   "cell_type": "code",
   "execution_count": 210,
   "id": "803bcce4",
   "metadata": {
    "scrolled": true
   },
   "outputs": [
    {
     "data": {
      "text/plain": [
       "<seaborn.axisgrid.FacetGrid at 0x1f573785d88>"
      ]
     },
     "execution_count": 210,
     "metadata": {},
     "output_type": "execute_result"
    },
    {
     "data": {
      "image/png": "[encoded data removed]",
      "text/plain": [
       "<Figure size 1440x360 with 4 Axes>"
      ]
     },
     "metadata": {
      "needs_background": "light"
     },
     "output_type": "display_data"
    }
   ],
   "source": [
    "sns.displot(data=job_india, x='IdealNumberOfWorkdays', col='IdealYearlyIncome', color='blue', kde=False)\n",
    "# Indian people desire for working 4 to 5 days per week.\n",
    "# Although IdealYearlyIncome is large, indian people want to receive more money. Most is 900K-1200K"
   ]
  },
  {
   "cell_type": "code",
   "execution_count": 295,
   "id": "a0f4b95e",
   "metadata": {},
   "outputs": [
    {
     "data": {
      "text/plain": [
       "<seaborn.axisgrid.FacetGrid at 0x1f57262c648>"
      ]
     },
     "execution_count": 295,
     "metadata": {},
     "output_type": "execute_result"
    },
    {
     "data": {
      "image/png": "[encoded data removed]",
      "text/plain": [
       "<Figure size 1440x360 with 4 Axes>"
      ]
     },
     "metadata": {
      "needs_background": "light"
     },
     "output_type": "display_data"
    }
   ],
   "source": [
    "sns.displot(data=job_india, x='Employment_Background', col='IdealNumberOfWorkdays', kde=False)\n",
    "# Students interesting in Art are willing to work all days."
   ]
  },
  {
   "cell_type": "code",
   "execution_count": 304,
   "id": "e1d3b90a",
   "metadata": {},
   "outputs": [
    {
     "data": {
      "text/plain": [
       "<seaborn.axisgrid.FacetGrid at 0x1f572e894c8>"
      ]
     },
     "execution_count": 304,
     "metadata": {},
     "output_type": "execute_result"
    },
    {
     "data": {
      "image/png": "[encoded data removed]",
      "text/plain": [
       "<Figure size 441.25x360 with 1 Axes>"
      ]
     },
     "metadata": {
      "needs_background": "light"
     },
     "output_type": "display_data"
    }
   ],
   "source": [
    "sns.catplot(data=job_india, x='Employment_Sector', kind='count', hue='Public_Dealing')"
   ]
  },
  {
   "cell_type": "code",
   "execution_count": 283,
   "id": "cb16033b",
   "metadata": {},
   "outputs": [
    {
     "data": {
      "image/png": "[encoded data removed]",
      "text/plain": [
       "<Figure size 576x360 with 1 Axes>"
      ]
     },
     "metadata": {
      "needs_background": "light"
     },
     "output_type": "display_data"
    }
   ],
   "source": [
    "fig = plt.figure(figsize=(8,5))\n",
    "sns.countplot(x='IdealYearlyIncome', data=job_india)\n",
    "plt.title('Number of people pursuing degree (Yes, No)', fontsize=20, fontweight='bold')\n",
    "plt.xlabel('Degree', fontsize=16, fontweight='bold')\n",
    "plt.ylabel('Count', fontsize=16, fontweight='bold')\n",
    "plt.xticks(fontsize=16, fontweight='bold', rotation=45)\n",
    "plt.yticks(fontsize=16, fontweight='bold')\n",
    "plt.show()"
   ]
  },
  {
   "cell_type": "code",
   "execution_count": 293,
   "id": "fe76e4fa",
   "metadata": {},
   "outputs": [
    {
     "data": {
      "text/html": [
       "<div>\n",
       "<style scoped>\n",
       "    .dataframe tbody tr th:only-of-type {\n",
       "        vertical-align: middle;\n",
       "    }\n",
       "\n",
       "    .dataframe tbody tr th {\n",
       "        vertical-align: top;\n",
       "    }\n",
       "\n",
       "    .dataframe thead th {\n",
       "        text-align: right;\n",
       "    }\n",
       "</style>\n",
       "<table border=\"1\" class=\"dataframe\">\n",
       "  <thead>\n",
       "    <tr style=\"text-align: right;\">\n",
       "      <th></th>\n",
       "      <th>Employment_Sector</th>\n",
       "      <th>Employment_Background</th>\n",
       "      <th>Public_Dealing</th>\n",
       "      <th>Degree</th>\n",
       "      <th>IdealNumberOfWorkdays</th>\n",
       "      <th>IdealYearlyIncome</th>\n",
       "    </tr>\n",
       "  </thead>\n",
       "  <tbody>\n",
       "    <tr>\n",
       "      <th>Employment_Sector</th>\n",
       "      <td>1.000000</td>\n",
       "      <td>0.122350</td>\n",
       "      <td>0.138990</td>\n",
       "      <td>0.477352</td>\n",
       "      <td>0.214642</td>\n",
       "      <td>0.261422</td>\n",
       "    </tr>\n",
       "    <tr>\n",
       "      <th>Employment_Background</th>\n",
       "      <td>0.122350</td>\n",
       "      <td>1.000000</td>\n",
       "      <td>0.479153</td>\n",
       "      <td>0.155916</td>\n",
       "      <td>-0.295354</td>\n",
       "      <td>0.016080</td>\n",
       "    </tr>\n",
       "    <tr>\n",
       "      <th>Public_Dealing</th>\n",
       "      <td>0.138990</td>\n",
       "      <td>0.479153</td>\n",
       "      <td>1.000000</td>\n",
       "      <td>0.117404</td>\n",
       "      <td>-0.388484</td>\n",
       "      <td>0.039801</td>\n",
       "    </tr>\n",
       "    <tr>\n",
       "      <th>Degree</th>\n",
       "      <td>0.477352</td>\n",
       "      <td>0.155916</td>\n",
       "      <td>0.117404</td>\n",
       "      <td>1.000000</td>\n",
       "      <td>0.202494</td>\n",
       "      <td>0.078138</td>\n",
       "    </tr>\n",
       "    <tr>\n",
       "      <th>IdealNumberOfWorkdays</th>\n",
       "      <td>0.214642</td>\n",
       "      <td>-0.295354</td>\n",
       "      <td>-0.388484</td>\n",
       "      <td>0.202494</td>\n",
       "      <td>1.000000</td>\n",
       "      <td>0.318459</td>\n",
       "    </tr>\n",
       "    <tr>\n",
       "      <th>IdealYearlyIncome</th>\n",
       "      <td>0.261422</td>\n",
       "      <td>0.016080</td>\n",
       "      <td>0.039801</td>\n",
       "      <td>0.078138</td>\n",
       "      <td>0.318459</td>\n",
       "      <td>1.000000</td>\n",
       "    </tr>\n",
       "  </tbody>\n",
       "</table>\n",
       "</div>"
      ],
      "text/plain": [
       "                       Employment_Sector  Employment_Background  \\\n",
       "Employment_Sector               1.000000               0.122350   \n",
       "Employment_Background           0.122350               1.000000   \n",
       "Public_Dealing                  0.138990               0.479153   \n",
       "Degree                          0.477352               0.155916   \n",
       "IdealNumberOfWorkdays           0.214642              -0.295354   \n",
       "IdealYearlyIncome               0.261422               0.016080   \n",
       "\n",
       "                       Public_Dealing    Degree  IdealNumberOfWorkdays  \\\n",
       "Employment_Sector            0.138990  0.477352               0.214642   \n",
       "Employment_Background        0.479153  0.155916              -0.295354   \n",
       "Public_Dealing               1.000000  0.117404              -0.388484   \n",
       "Degree                       0.117404  1.000000               0.202494   \n",
       "IdealNumberOfWorkdays       -0.388484  0.202494               1.000000   \n",
       "IdealYearlyIncome            0.039801  0.078138               0.318459   \n",
       "\n",
       "                       IdealYearlyIncome  \n",
       "Employment_Sector               0.261422  \n",
       "Employment_Background           0.016080  \n",
       "Public_Dealing                  0.039801  \n",
       "Degree                          0.078138  \n",
       "IdealNumberOfWorkdays           0.318459  \n",
       "IdealYearlyIncome               1.000000  "
      ]
     },
     "execution_count": 293,
     "metadata": {},
     "output_type": "execute_result"
    }
   ],
   "source": [
    "corr = job_india.apply(lambda x:x.factorize()[0]).corr()\n",
    "corr"
   ]
  },
  {
   "cell_type": "code",
   "execution_count": 289,
   "id": "14bddc0a",
   "metadata": {},
   "outputs": [
    {
     "data": {
      "text/plain": [
       "<AxesSubplot:>"
      ]
     },
     "execution_count": 289,
     "metadata": {},
     "output_type": "execute_result"
    },
    {
     "data": {
      "image/png": "[encoded data removed]",
      "text/plain": [
       "<Figure size 432x288 with 2 Axes>"
      ]
     },
     "metadata": {
      "needs_background": "light"
     },
     "output_type": "display_data"
    }
   ],
   "source": [
    "sns.heatmap(corr)"
   ]
  },
  {
   "cell_type": "markdown",
   "id": "c1af8f18",
   "metadata": {},
   "source": [
    "### Machine Learning Implementation"
   ]
  },
  {
   "cell_type": "code",
   "execution_count": 257,
   "id": "2fe90be9",
   "metadata": {},
   "outputs": [],
   "source": [
    "# Split training and validation set\n",
    "X = job_india.drop(columns={'IdealYearlyIncome'})\n",
    "y = job_india['IdealYearlyIncome']\n",
    "X_train, X_valid, y_train, y_valid = train_test_split(X, y, test_size=0.1, random_state=0)"
   ]
  },
  {
   "cell_type": "code",
   "execution_count": 258,
   "id": "4c46af22",
   "metadata": {},
   "outputs": [
    {
     "name": "stdout",
     "output_type": "stream",
     "text": [
      "(360, 5)\n",
      "(40, 5)\n",
      "(360,)\n",
      "(40,)\n"
     ]
    }
   ],
   "source": [
    "print(X_train.shape)\n",
    "print(X_valid.shape)\n",
    "print(y_train.shape)\n",
    "print(y_valid.shape)"
   ]
  },
  {
   "cell_type": "markdown",
   "id": "959dbc9e",
   "metadata": {},
   "source": [
    "### List categorical columns"
   ]
  },
  {
   "cell_type": "code",
   "execution_count": 259,
   "id": "c02d9dde",
   "metadata": {},
   "outputs": [
    {
     "data": {
      "text/plain": [
       "['Employment_Sector', 'Employment_Background', 'Public_Dealing', 'Degree']"
      ]
     },
     "execution_count": 259,
     "metadata": {},
     "output_type": "execute_result"
    }
   ],
   "source": [
    "'''\n",
    "    List object columns\n",
    "'''\n",
    "# Employment_Sector - Nominal\n",
    "# Employment_Background - Nominal\n",
    "# Public_Dealing - Nominal\n",
    "# Degree - Nominal\n",
    "# IdealNumberOfWorkdays - Ordinal\n",
    "# IdealYearlyIncome - Ordinal\n",
    "\n",
    "s = (X_train.dtypes == 'object')\n",
    "object_cols = list(s[s].index)\n",
    "object_cols"
   ]
  },
  {
   "cell_type": "markdown",
   "id": "01c60e70",
   "metadata": {},
   "source": [
    "### Do One Hot Encoder following the Kaggle course"
   ]
  },
  {
   "cell_type": "code",
   "execution_count": 260,
   "id": "81fe7a0b",
   "metadata": {},
   "outputs": [],
   "source": [
    "'''\n",
    "    One-Hot encoder\n",
    "'''\n",
    "\n",
    "OH = OneHotEncoder(handle_unknown='ignore', sparse=False)\n",
    "\n",
    "OH_X_train = pd.DataFrame(OH.fit_transform(X_train[object_cols]))\n",
    "OH_X_valid = pd.DataFrame(OH.transform(X_valid[object_cols]))\n",
    "\n",
    "OH_X_train.index = X_train.index\n",
    "OH_X_valid.index = X_valid.index\n",
    "\n",
    "num_X_train = X_train.drop(X_train[object_cols], axis=1)\n",
    "num_X_valid = X_valid.drop(X_valid[object_cols], axis=1)\n",
    "num_X = pd.concat([num_X_train, num_X_valid], axis=0)\n",
    "\n",
    "OH_X_train = pd.concat([num_X_train, OH_X_train], axis=1)\n",
    "OH_X_valid = pd.concat([num_X_valid, OH_X_valid], axis=1)\n",
    "\n",
    "# Gather rows from training and validation together for cross validation\n",
    "OH_X = pd.concat([OH_X_train, OH_X_valid], axis=0)\n",
    "# OH_X = pd.concat([num_X, OH_X], axis=1)"
   ]
  },
  {
   "cell_type": "markdown",
   "id": "f7aa38ed",
   "metadata": {},
   "source": [
    "### Random Forest"
   ]
  },
  {
   "cell_type": "code",
   "execution_count": 261,
   "id": "f7db61f5",
   "metadata": {},
   "outputs": [
    {
     "name": "stdout",
     "output_type": "stream",
     "text": [
      "N: 2 -> 0.2675\n",
      "N: 3 -> 0.3125\n",
      "N: 4 -> 0.305\n",
      "N: 5 -> 0.2775\n",
      "N: 10 -> 0.3175\n",
      "N: 50 -> 0.30250000000000005\n",
      "N: 100 -> 0.31000000000000005\n",
      "N: 200 -> 0.32\n",
      "N: 400 -> 0.30500000000000005\n",
      "N: 600 -> 0.30250000000000005\n",
      "N: 800 -> 0.3\n",
      "N: 1000 -> 0.3075\n"
     ]
    }
   ],
   "source": [
    "n_estimators = [2,3,4,5,10,50,100,200,400,600,800,1000]\n",
    "for n_estimator in n_estimators:\n",
    "    model = RandomForestClassifier(n_estimators=n_estimator, random_state=0)\n",
    "    cv_rf = cross_val_score(model, OH_X, y, cv=5, scoring='recall_micro')\n",
    "    print(f'N: {n_estimator} -> {cv_rf.mean()}')"
   ]
  },
  {
   "cell_type": "markdown",
   "id": "6e0a138d",
   "metadata": {},
   "source": [
    "### Decision Tree"
   ]
  },
  {
   "cell_type": "code",
   "execution_count": 262,
   "id": "be16e5ae",
   "metadata": {},
   "outputs": [
    {
     "name": "stdout",
     "output_type": "stream",
     "text": [
      "Nodes: 2 -> CV: 0.40499999999999997\n",
      "Nodes: 3 -> CV: 0.3975000000000001\n",
      "Nodes: 4 -> CV: 0.3975000000000001\n",
      "Nodes: 5 -> CV: 0.3775\n",
      "Nodes: 6 -> CV: 0.3725\n",
      "Nodes: 7 -> CV: 0.365\n",
      "Nodes: 8 -> CV: 0.3675\n",
      "Nodes: 9 -> CV: 0.36\n",
      "Nodes: 10 -> CV: 0.35250000000000004\n"
     ]
    }
   ],
   "source": [
    "max_leaf_nodes=[2,3,4,5,6,7,8,9,10]\n",
    "for node in max_leaf_nodes:\n",
    "    dt_model = DecisionTreeClassifier(max_leaf_nodes=node, random_state=0)\n",
    "    cv_dt = cross_val_score(dt_model, OH_X, y, cv=5, scoring='recall_micro')\n",
    "    print(f'Nodes: {node} -> CV: {cv_dt.mean()}')"
   ]
  },
  {
   "cell_type": "markdown",
   "id": "2923af19",
   "metadata": {},
   "source": [
    "### Linear SVC"
   ]
  },
  {
   "cell_type": "code",
   "execution_count": 263,
   "id": "dd32c5d4",
   "metadata": {},
   "outputs": [
    {
     "name": "stdout",
     "output_type": "stream",
     "text": [
      "Linear SVC: 0.40499999999999997\n"
     ]
    }
   ],
   "source": [
    "svc_linear_model = svm.SVC(kernel='linear')\n",
    "cv_svc_linear = cross_val_score(svc_linear_model, OH_X, y, cv=5, scoring='recall_micro')\n",
    "print(f'Linear SVC: {cv_svc_linear.mean()}')"
   ]
  },
  {
   "cell_type": "markdown",
   "id": "ed188973",
   "metadata": {},
   "source": [
    "### RBF SVC"
   ]
  },
  {
   "cell_type": "code",
   "execution_count": 264,
   "id": "9064bda5",
   "metadata": {},
   "outputs": [
    {
     "name": "stdout",
     "output_type": "stream",
     "text": [
      "RBF SVC: 0.40499999999999997\n"
     ]
    }
   ],
   "source": [
    "svc_rbf_model = svm.SVC(kernel='rbf')\n",
    "cv_svc_rbf = cross_val_score(svc_rbf_model, OH_X, y, cv=5, scoring='recall_micro')\n",
    "print(f'RBF SVC: {cv_svc_rbf.mean()}')"
   ]
  },
  {
   "cell_type": "markdown",
   "id": "0e47b26d",
   "metadata": {},
   "source": [
    "### OVO SVC"
   ]
  },
  {
   "cell_type": "code",
   "execution_count": 265,
   "id": "3abf1d98",
   "metadata": {},
   "outputs": [
    {
     "name": "stdout",
     "output_type": "stream",
     "text": [
      "OVO SVC: 0.40499999999999997\n"
     ]
    }
   ],
   "source": [
    "svc_ovo = svm.SVC(decision_function_shape='ovo')\n",
    "cv_svc_ovo = cross_val_score(svc_ovo, OH_X, y, cv=5, scoring='recall_micro')\n",
    "print(f'OVO SVC: {cv_svc_ovo.mean()}')"
   ]
  },
  {
   "cell_type": "markdown",
   "id": "dba8c723",
   "metadata": {},
   "source": [
    "### OVR SVC"
   ]
  },
  {
   "cell_type": "code",
   "execution_count": 266,
   "id": "57c4e532",
   "metadata": {},
   "outputs": [
    {
     "name": "stdout",
     "output_type": "stream",
     "text": [
      "OVR SVC: 0.40499999999999997\n"
     ]
    }
   ],
   "source": [
    "svc_ovr = svm.SVC(decision_function_shape='ovr')\n",
    "cv_svc_ovr = cross_val_score(svc_ovr, OH_X, y, cv=5, scoring='recall_micro')\n",
    "print(f'OVR SVC: {cv_svc_ovr.mean()}')"
   ]
  },
  {
   "cell_type": "markdown",
   "id": "02a22d90",
   "metadata": {},
   "source": [
    "### MLP (Multilayer Perceptron)"
   ]
  },
  {
   "cell_type": "code",
   "execution_count": 267,
   "id": "5192e11d",
   "metadata": {},
   "outputs": [
    {
     "name": "stdout",
     "output_type": "stream",
     "text": [
      "MLP: 0.40499999999999997\n"
     ]
    }
   ],
   "source": [
    "mlp_model = MLPClassifier(solver='lbfgs', alpha=1e-5, hidden_layer_sizes=(1, 2), random_state=0)\n",
    "cv_mlp = cross_val_score(mlp_model, OH_X, y, cv=5, scoring='recall_micro')\n",
    "print(f'MLP: {cv_mlp.mean()}')"
   ]
  },
  {
   "cell_type": "code",
   "execution_count": 49,
   "id": "65541b7d",
   "metadata": {
    "scrolled": true
   },
   "outputs": [
    {
     "data": {
      "text/plain": [
       "336     600K-900K\n",
       "64     900K-1200K\n",
       "55     900K-1200K\n",
       "106    900K-1200K\n",
       "300    900K-1200K\n",
       "Name: IdealYearlyIncome, dtype: object"
      ]
     },
     "execution_count": 49,
     "metadata": {},
     "output_type": "execute_result"
    }
   ],
   "source": [
    "y_train.head()"
   ]
  },
  {
   "cell_type": "code",
   "execution_count": 212,
   "id": "4d3cbe25",
   "metadata": {},
   "outputs": [],
   "source": [
    "dt_model = DecisionTreeClassifier(max_leaf_nodes=2, random_state=0)"
   ]
  },
  {
   "cell_type": "code",
   "execution_count": 213,
   "id": "15e73e43",
   "metadata": {},
   "outputs": [
    {
     "data": {
      "text/plain": [
       "array(['900K-1200K', '900K-1200K', '1200K-1500K', '1200K-1500K',\n",
       "       '900K-1200K', '1200K-1500K', '900K-1200K', '1200K-1500K',\n",
       "       '1200K-1500K', '1200K-1500K', '1200K-1500K', '1200K-1500K',\n",
       "       '900K-1200K', '900K-1200K', '1200K-1500K', '1200K-1500K',\n",
       "       '1200K-1500K', '1200K-1500K', '1200K-1500K', '900K-1200K',\n",
       "       '900K-1200K', '900K-1200K', '1200K-1500K', '900K-1200K',\n",
       "       '1200K-1500K', '1200K-1500K', '1200K-1500K', '1200K-1500K',\n",
       "       '1200K-1500K', '1200K-1500K', '900K-1200K', '1200K-1500K',\n",
       "       '900K-1200K', '900K-1200K', '1200K-1500K', '1200K-1500K',\n",
       "       '1200K-1500K', '1200K-1500K', '900K-1200K', '1200K-1500K',\n",
       "       '900K-1200K', '1200K-1500K', '900K-1200K', '900K-1200K',\n",
       "       '900K-1200K', '1200K-1500K', '1200K-1500K', '900K-1200K',\n",
       "       '1200K-1500K', '1200K-1500K', '1200K-1500K', '1200K-1500K',\n",
       "       '1200K-1500K', '1200K-1500K', '1200K-1500K', '900K-1200K',\n",
       "       '1200K-1500K', '1200K-1500K', '1200K-1500K', '1200K-1500K',\n",
       "       '1200K-1500K', '900K-1200K', '1200K-1500K', '1200K-1500K',\n",
       "       '1200K-1500K', '1200K-1500K', '1200K-1500K', '1200K-1500K',\n",
       "       '900K-1200K', '1200K-1500K', '900K-1200K', '1200K-1500K',\n",
       "       '1200K-1500K', '1200K-1500K', '1200K-1500K', '900K-1200K',\n",
       "       '1200K-1500K', '900K-1200K', '1200K-1500K', '900K-1200K'],\n",
       "      dtype=object)"
      ]
     },
     "execution_count": 213,
     "metadata": {},
     "output_type": "execute_result"
    }
   ],
   "source": [
    "dt_model.fit(OH_X_train, y_train)\n",
    "dt_model.predict(OH_X_valid)"
   ]
  },
  {
   "cell_type": "code",
   "execution_count": 214,
   "id": "4bfa250d",
   "metadata": {},
   "outputs": [],
   "source": [
    "correct = y_valid\n",
    "prediction = dt_model.predict(OH_X_valid)\n",
    "\n",
    "result = pd.DataFrame({'Correct': correct, 'Prediction': prediction})"
   ]
  },
  {
   "cell_type": "code",
   "execution_count": 215,
   "id": "f500e17f",
   "metadata": {},
   "outputs": [],
   "source": [
    "false_prediction = result[result['Correct'] != result['Prediction']].shape[0]\n",
    "correct_prediction = result[result['Correct'] == result['Prediction']].shape[0]"
   ]
  },
  {
   "cell_type": "code",
   "execution_count": 216,
   "id": "b6cfe279",
   "metadata": {},
   "outputs": [
    {
     "name": "stdout",
     "output_type": "stream",
     "text": [
      "False prediction: 55\n",
      "Correct prediction: 25\n"
     ]
    }
   ],
   "source": [
    "print(f'False prediction: {false_prediction}')\n",
    "print(f'Correct prediction: {correct_prediction}')"
   ]
  },
  {
   "cell_type": "code",
   "execution_count": 148,
   "id": "975af437",
   "metadata": {},
   "outputs": [
    {
     "data": {
      "text/html": [
       "<div>\n",
       "<style scoped>\n",
       "    .dataframe tbody tr th:only-of-type {\n",
       "        vertical-align: middle;\n",
       "    }\n",
       "\n",
       "    .dataframe tbody tr th {\n",
       "        vertical-align: top;\n",
       "    }\n",
       "\n",
       "    .dataframe thead th {\n",
       "        text-align: right;\n",
       "    }\n",
       "</style>\n",
       "<table border=\"1\" class=\"dataframe\">\n",
       "  <thead>\n",
       "    <tr style=\"text-align: right;\">\n",
       "      <th></th>\n",
       "      <th>Correct</th>\n",
       "      <th>Prediction</th>\n",
       "    </tr>\n",
       "  </thead>\n",
       "  <tbody>\n",
       "    <tr>\n",
       "      <th>132</th>\n",
       "      <td>More Than 1500K</td>\n",
       "      <td>900K-1200K</td>\n",
       "    </tr>\n",
       "    <tr>\n",
       "      <th>309</th>\n",
       "      <td>600K-900K</td>\n",
       "      <td>900K-1200K</td>\n",
       "    </tr>\n",
       "    <tr>\n",
       "      <th>341</th>\n",
       "      <td>More Than 1500K</td>\n",
       "      <td>1200K-1500K</td>\n",
       "    </tr>\n",
       "    <tr>\n",
       "      <th>196</th>\n",
       "      <td>1200K-1500K</td>\n",
       "      <td>1200K-1500K</td>\n",
       "    </tr>\n",
       "    <tr>\n",
       "      <th>246</th>\n",
       "      <td>900K-1200K</td>\n",
       "      <td>900K-1200K</td>\n",
       "    </tr>\n",
       "    <tr>\n",
       "      <th>...</th>\n",
       "      <td>...</td>\n",
       "      <td>...</td>\n",
       "    </tr>\n",
       "    <tr>\n",
       "      <th>14</th>\n",
       "      <td>More Than 1500K</td>\n",
       "      <td>900K-1200K</td>\n",
       "    </tr>\n",
       "    <tr>\n",
       "      <th>363</th>\n",
       "      <td>600K-900K</td>\n",
       "      <td>1200K-1500K</td>\n",
       "    </tr>\n",
       "    <tr>\n",
       "      <th>304</th>\n",
       "      <td>900K-1200K</td>\n",
       "      <td>900K-1200K</td>\n",
       "    </tr>\n",
       "    <tr>\n",
       "      <th>361</th>\n",
       "      <td>900K-1200K</td>\n",
       "      <td>1200K-1500K</td>\n",
       "    </tr>\n",
       "    <tr>\n",
       "      <th>329</th>\n",
       "      <td>900K-1200K</td>\n",
       "      <td>900K-1200K</td>\n",
       "    </tr>\n",
       "  </tbody>\n",
       "</table>\n",
       "<p>80 rows × 2 columns</p>\n",
       "</div>"
      ],
      "text/plain": [
       "             Correct   Prediction\n",
       "132  More Than 1500K   900K-1200K\n",
       "309        600K-900K   900K-1200K\n",
       "341  More Than 1500K  1200K-1500K\n",
       "196      1200K-1500K  1200K-1500K\n",
       "246       900K-1200K   900K-1200K\n",
       "..               ...          ...\n",
       "14   More Than 1500K   900K-1200K\n",
       "363        600K-900K  1200K-1500K\n",
       "304       900K-1200K   900K-1200K\n",
       "361       900K-1200K  1200K-1500K\n",
       "329       900K-1200K   900K-1200K\n",
       "\n",
       "[80 rows x 2 columns]"
      ]
     },
     "execution_count": 148,
     "metadata": {},
     "output_type": "execute_result"
    }
   ],
   "source": [
    "result"
   ]
  },
  {
   "cell_type": "code",
   "execution_count": 256,
   "id": "4f5efaf3",
   "metadata": {},
   "outputs": [
    {
     "data": {
      "text/plain": [
       "array(['1200K-1500K'], dtype=object)"
      ]
     },
     "execution_count": 256,
     "metadata": {},
     "output_type": "execute_result"
    }
   ],
   "source": [
    "dt_model.predict([[5, 0, 1, 0, 0, 1, 0, 1, 0, 1, 0]])"
   ]
  }
 ],
 "metadata": {
  "kernelspec": {
   "display_name": "Python 3",
   "language": "python",
   "name": "python3"
  },
  "language_info": {
   "codemirror_mode": {
    "name": "ipython",
    "version": 3
   },
   "file_extension": ".py",
   "mimetype": "text/x-python",
   "name": "python",
   "nbconvert_exporter": "python",
   "pygments_lexer": "ipython3",
   "version": "3.7.10"
  }
 },
 "nbformat": 4,
 "nbformat_minor": 5
}
