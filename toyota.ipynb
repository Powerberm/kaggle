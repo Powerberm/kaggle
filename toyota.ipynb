{
 "cells": [
  {
   "cell_type": "markdown",
   "id": "b0206694",
   "metadata": {},
   "source": [
    "### Toyota\n",
    "#### Practise comparing model predicting performance following Tolgahan Cepel in Kaggle.com"
   ]
  },
  {
   "cell_type": "markdown",
   "id": "195a583a",
   "metadata": {},
   "source": [
    "### Import libraries"
   ]
  },
  {
   "cell_type": "code",
   "execution_count": null,
   "id": "56608dfb",
   "metadata": {},
   "outputs": [],
   "source": [
    "import pandas as pd\n",
    "import numpy as np\n",
    "import seaborn as sns\n",
    "import matplotlib.pyplot as plt\n",
    "from sklearn.ensemble import RandomForestRegressor\n",
    "from sklearn.model_selection import train_test_split\n",
    "from sklearn.model_selection import cross_val_score\n",
    "from sklearn.linear_model import LinearRegression\n",
    "from sklearn.linear_model import Ridge\n",
    "from sklearn.linear_model import Lasso\n",
    "from sklearn.svm import SVR\n",
    "from sklearn.tree import DecisionTreeRegressor\n",
    "from sklearn.metrics import mean_squared_error\n",
    "from sklearn.metrics import r2_score\n",
    "from sklearn.preprocessing import PolynomialFeatures\n",
    "from sklearn.preprocessing import StandardScaler\n",
    "from sklearn.pipeline import Pipeline"
   ]
  },
  {
   "cell_type": "markdown",
   "id": "40316c1e",
   "metadata": {},
   "source": [
    "### Read the file"
   ]
  },
  {
   "cell_type": "code",
   "execution_count": 3,
   "id": "c08f7928",
   "metadata": {},
   "outputs": [],
   "source": [
    "toyota = pd.read_csv('ToyotaCorolla.csv')"
   ]
  },
  {
   "cell_type": "code",
   "execution_count": 4,
   "id": "dcd7b1c5",
   "metadata": {},
   "outputs": [
    {
     "data": {
      "text/html": [
       "<div>\n",
       "<style scoped>\n",
       "    .dataframe tbody tr th:only-of-type {\n",
       "        vertical-align: middle;\n",
       "    }\n",
       "\n",
       "    .dataframe tbody tr th {\n",
       "        vertical-align: top;\n",
       "    }\n",
       "\n",
       "    .dataframe thead th {\n",
       "        text-align: right;\n",
       "    }\n",
       "</style>\n",
       "<table border=\"1\" class=\"dataframe\">\n",
       "  <thead>\n",
       "    <tr style=\"text-align: right;\">\n",
       "      <th></th>\n",
       "      <th>Price</th>\n",
       "      <th>Age</th>\n",
       "      <th>KM</th>\n",
       "      <th>FuelType</th>\n",
       "      <th>HP</th>\n",
       "      <th>MetColor</th>\n",
       "      <th>Automatic</th>\n",
       "      <th>CC</th>\n",
       "      <th>Doors</th>\n",
       "      <th>Weight</th>\n",
       "    </tr>\n",
       "  </thead>\n",
       "  <tbody>\n",
       "    <tr>\n",
       "      <th>0</th>\n",
       "      <td>13500</td>\n",
       "      <td>23</td>\n",
       "      <td>46986</td>\n",
       "      <td>Diesel</td>\n",
       "      <td>90</td>\n",
       "      <td>1</td>\n",
       "      <td>0</td>\n",
       "      <td>2000</td>\n",
       "      <td>3</td>\n",
       "      <td>1165</td>\n",
       "    </tr>\n",
       "    <tr>\n",
       "      <th>1</th>\n",
       "      <td>13750</td>\n",
       "      <td>23</td>\n",
       "      <td>72937</td>\n",
       "      <td>Diesel</td>\n",
       "      <td>90</td>\n",
       "      <td>1</td>\n",
       "      <td>0</td>\n",
       "      <td>2000</td>\n",
       "      <td>3</td>\n",
       "      <td>1165</td>\n",
       "    </tr>\n",
       "    <tr>\n",
       "      <th>2</th>\n",
       "      <td>13950</td>\n",
       "      <td>24</td>\n",
       "      <td>41711</td>\n",
       "      <td>Diesel</td>\n",
       "      <td>90</td>\n",
       "      <td>1</td>\n",
       "      <td>0</td>\n",
       "      <td>2000</td>\n",
       "      <td>3</td>\n",
       "      <td>1165</td>\n",
       "    </tr>\n",
       "    <tr>\n",
       "      <th>3</th>\n",
       "      <td>14950</td>\n",
       "      <td>26</td>\n",
       "      <td>48000</td>\n",
       "      <td>Diesel</td>\n",
       "      <td>90</td>\n",
       "      <td>0</td>\n",
       "      <td>0</td>\n",
       "      <td>2000</td>\n",
       "      <td>3</td>\n",
       "      <td>1165</td>\n",
       "    </tr>\n",
       "    <tr>\n",
       "      <th>4</th>\n",
       "      <td>13750</td>\n",
       "      <td>30</td>\n",
       "      <td>38500</td>\n",
       "      <td>Diesel</td>\n",
       "      <td>90</td>\n",
       "      <td>0</td>\n",
       "      <td>0</td>\n",
       "      <td>2000</td>\n",
       "      <td>3</td>\n",
       "      <td>1170</td>\n",
       "    </tr>\n",
       "  </tbody>\n",
       "</table>\n",
       "</div>"
      ],
      "text/plain": [
       "   Price  Age     KM FuelType  HP  MetColor  Automatic    CC  Doors  Weight\n",
       "0  13500   23  46986   Diesel  90         1          0  2000      3    1165\n",
       "1  13750   23  72937   Diesel  90         1          0  2000      3    1165\n",
       "2  13950   24  41711   Diesel  90         1          0  2000      3    1165\n",
       "3  14950   26  48000   Diesel  90         0          0  2000      3    1165\n",
       "4  13750   30  38500   Diesel  90         0          0  2000      3    1170"
      ]
     },
     "execution_count": 4,
     "metadata": {},
     "output_type": "execute_result"
    }
   ],
   "source": [
    "toyota.head()"
   ]
  },
  {
   "cell_type": "code",
   "execution_count": 5,
   "id": "f71ef6cb",
   "metadata": {},
   "outputs": [
    {
     "data": {
      "text/plain": [
       "(1436, 10)"
      ]
     },
     "execution_count": 5,
     "metadata": {},
     "output_type": "execute_result"
    }
   ],
   "source": [
    "toyota.shape"
   ]
  },
  {
   "cell_type": "markdown",
   "id": "06332253",
   "metadata": {},
   "source": [
    "### Check null"
   ]
  },
  {
   "cell_type": "code",
   "execution_count": 6,
   "id": "5e9595bb",
   "metadata": {},
   "outputs": [
    {
     "data": {
      "text/plain": [
       "Price        0\n",
       "Age          0\n",
       "KM           0\n",
       "FuelType     0\n",
       "HP           0\n",
       "MetColor     0\n",
       "Automatic    0\n",
       "CC           0\n",
       "Doors        0\n",
       "Weight       0\n",
       "dtype: int64"
      ]
     },
     "execution_count": 6,
     "metadata": {},
     "output_type": "execute_result"
    }
   ],
   "source": [
    "toyota.isnull().sum()"
   ]
  },
  {
   "cell_type": "markdown",
   "id": "c3e44014",
   "metadata": {},
   "source": [
    "### Check types"
   ]
  },
  {
   "cell_type": "code",
   "execution_count": 7,
   "id": "eacbb9e3",
   "metadata": {},
   "outputs": [
    {
     "data": {
      "text/plain": [
       "Price         int64\n",
       "Age           int64\n",
       "KM            int64\n",
       "FuelType     object\n",
       "HP            int64\n",
       "MetColor      int64\n",
       "Automatic     int64\n",
       "CC            int64\n",
       "Doors         int64\n",
       "Weight        int64\n",
       "dtype: object"
      ]
     },
     "execution_count": 7,
     "metadata": {},
     "output_type": "execute_result"
    }
   ],
   "source": [
    "toyota.dtypes"
   ]
  },
  {
   "cell_type": "markdown",
   "id": "291f3c2c",
   "metadata": {},
   "source": [
    "### Plot heatmap"
   ]
  },
  {
   "cell_type": "code",
   "execution_count": 8,
   "id": "115b7fa7",
   "metadata": {
    "scrolled": true
   },
   "outputs": [
    {
     "data": {
      "image/png": "[encoded data removed]",
      "text/plain": [
       "<Figure size 576x576 with 2 Axes>"
      ]
     },
     "metadata": {
      "needs_background": "light"
     },
     "output_type": "display_data"
    }
   ],
   "source": [
    "corr = toyota.corr()\n",
    "fig, ax = plt.subplots(figsize=(8, 8))\n",
    "sns.heatmap(corr, annot=True, fmt='.2f')\n",
    "plt.xticks(range(len(corr.columns)), corr.columns)\n",
    "plt.yticks(range(len(corr.columns)), corr.columns)\n",
    "\n",
    "plt.show()"
   ]
  },
  {
   "cell_type": "markdown",
   "id": "73cbd710",
   "metadata": {},
   "source": [
    "### Do one-hot encoder"
   ]
  },
  {
   "cell_type": "code",
   "execution_count": 9,
   "id": "9c4eb92f",
   "metadata": {},
   "outputs": [
    {
     "data": {
      "text/html": [
       "<div>\n",
       "<style scoped>\n",
       "    .dataframe tbody tr th:only-of-type {\n",
       "        vertical-align: middle;\n",
       "    }\n",
       "\n",
       "    .dataframe tbody tr th {\n",
       "        vertical-align: top;\n",
       "    }\n",
       "\n",
       "    .dataframe thead th {\n",
       "        text-align: right;\n",
       "    }\n",
       "</style>\n",
       "<table border=\"1\" class=\"dataframe\">\n",
       "  <thead>\n",
       "    <tr style=\"text-align: right;\">\n",
       "      <th></th>\n",
       "      <th>Price</th>\n",
       "      <th>Age</th>\n",
       "      <th>KM</th>\n",
       "      <th>HP</th>\n",
       "      <th>MetColor</th>\n",
       "      <th>Automatic</th>\n",
       "      <th>CC</th>\n",
       "      <th>Doors</th>\n",
       "      <th>Weight</th>\n",
       "      <th>FuelType_CNG</th>\n",
       "      <th>FuelType_Diesel</th>\n",
       "      <th>FuelType_Petrol</th>\n",
       "    </tr>\n",
       "  </thead>\n",
       "  <tbody>\n",
       "    <tr>\n",
       "      <th>0</th>\n",
       "      <td>13500</td>\n",
       "      <td>23</td>\n",
       "      <td>46986</td>\n",
       "      <td>90</td>\n",
       "      <td>1</td>\n",
       "      <td>0</td>\n",
       "      <td>2000</td>\n",
       "      <td>3</td>\n",
       "      <td>1165</td>\n",
       "      <td>0</td>\n",
       "      <td>1</td>\n",
       "      <td>0</td>\n",
       "    </tr>\n",
       "    <tr>\n",
       "      <th>1</th>\n",
       "      <td>13750</td>\n",
       "      <td>23</td>\n",
       "      <td>72937</td>\n",
       "      <td>90</td>\n",
       "      <td>1</td>\n",
       "      <td>0</td>\n",
       "      <td>2000</td>\n",
       "      <td>3</td>\n",
       "      <td>1165</td>\n",
       "      <td>0</td>\n",
       "      <td>1</td>\n",
       "      <td>0</td>\n",
       "    </tr>\n",
       "    <tr>\n",
       "      <th>2</th>\n",
       "      <td>13950</td>\n",
       "      <td>24</td>\n",
       "      <td>41711</td>\n",
       "      <td>90</td>\n",
       "      <td>1</td>\n",
       "      <td>0</td>\n",
       "      <td>2000</td>\n",
       "      <td>3</td>\n",
       "      <td>1165</td>\n",
       "      <td>0</td>\n",
       "      <td>1</td>\n",
       "      <td>0</td>\n",
       "    </tr>\n",
       "    <tr>\n",
       "      <th>3</th>\n",
       "      <td>14950</td>\n",
       "      <td>26</td>\n",
       "      <td>48000</td>\n",
       "      <td>90</td>\n",
       "      <td>0</td>\n",
       "      <td>0</td>\n",
       "      <td>2000</td>\n",
       "      <td>3</td>\n",
       "      <td>1165</td>\n",
       "      <td>0</td>\n",
       "      <td>1</td>\n",
       "      <td>0</td>\n",
       "    </tr>\n",
       "    <tr>\n",
       "      <th>4</th>\n",
       "      <td>13750</td>\n",
       "      <td>30</td>\n",
       "      <td>38500</td>\n",
       "      <td>90</td>\n",
       "      <td>0</td>\n",
       "      <td>0</td>\n",
       "      <td>2000</td>\n",
       "      <td>3</td>\n",
       "      <td>1170</td>\n",
       "      <td>0</td>\n",
       "      <td>1</td>\n",
       "      <td>0</td>\n",
       "    </tr>\n",
       "  </tbody>\n",
       "</table>\n",
       "</div>"
      ],
      "text/plain": [
       "   Price  Age     KM  HP  MetColor  Automatic    CC  Doors  Weight  \\\n",
       "0  13500   23  46986  90         1          0  2000      3    1165   \n",
       "1  13750   23  72937  90         1          0  2000      3    1165   \n",
       "2  13950   24  41711  90         1          0  2000      3    1165   \n",
       "3  14950   26  48000  90         0          0  2000      3    1165   \n",
       "4  13750   30  38500  90         0          0  2000      3    1170   \n",
       "\n",
       "   FuelType_CNG  FuelType_Diesel  FuelType_Petrol  \n",
       "0             0                1                0  \n",
       "1             0                1                0  \n",
       "2             0                1                0  \n",
       "3             0                1                0  \n",
       "4             0                1                0  "
      ]
     },
     "execution_count": 9,
     "metadata": {},
     "output_type": "execute_result"
    }
   ],
   "source": [
    "toyota = pd.get_dummies(toyota)\n",
    "toyota.head()"
   ]
  },
  {
   "cell_type": "markdown",
   "id": "03103fc5",
   "metadata": {},
   "source": [
    "### Separate factor and target variables"
   ]
  },
  {
   "cell_type": "code",
   "execution_count": 10,
   "id": "4d8a05da",
   "metadata": {},
   "outputs": [],
   "source": [
    "X = toyota.drop('Price', axis=1)\n",
    "y = toyota.loc[:, 'Price']"
   ]
  },
  {
   "cell_type": "code",
   "execution_count": 11,
   "id": "a1a76a90",
   "metadata": {},
   "outputs": [
    {
     "name": "stdout",
     "output_type": "stream",
     "text": [
      "(1436, 11)\n",
      "(1436,)\n"
     ]
    }
   ],
   "source": [
    "print(X.shape)\n",
    "print(y.shape)"
   ]
  },
  {
   "cell_type": "markdown",
   "id": "0a381f2f",
   "metadata": {},
   "source": [
    "### Split training and testing sets"
   ]
  },
  {
   "cell_type": "code",
   "execution_count": 12,
   "id": "8fe2a942",
   "metadata": {},
   "outputs": [],
   "source": [
    "X_train, X_test, y_train, y_test = train_test_split(X, y, test_size=0.2, random_state=68)"
   ]
  },
  {
   "cell_type": "code",
   "execution_count": 13,
   "id": "9312b5ab",
   "metadata": {
    "scrolled": true
   },
   "outputs": [
    {
     "name": "stdout",
     "output_type": "stream",
     "text": [
      "(1148, 11)\n",
      "(288, 11)\n",
      "(1148,)\n",
      "(288,)\n"
     ]
    }
   ],
   "source": [
    "print(X_train.shape)\n",
    "print(X_test.shape)\n",
    "print(y_train.shape)\n",
    "print(y_test.shape)"
   ]
  },
  {
   "cell_type": "markdown",
   "id": "abd6b3f6",
   "metadata": {},
   "source": [
    "### Linear Regression"
   ]
  },
  {
   "cell_type": "code",
   "execution_count": 14,
   "id": "838f461f",
   "metadata": {},
   "outputs": [
    {
     "data": {
      "text/plain": [
       "LinearRegression()"
      ]
     },
     "execution_count": 14,
     "metadata": {},
     "output_type": "execute_result"
    }
   ],
   "source": [
    "linear_regressor = LinearRegression()\n",
    "linear_regressor.fit(X_train, y_train)"
   ]
  },
  {
   "cell_type": "code",
   "execution_count": 15,
   "id": "1c01c244",
   "metadata": {},
   "outputs": [
    {
     "name": "stdout",
     "output_type": "stream",
     "text": [
      "CV Mean: 0.8617296109507485\n",
      "R2 of training: 0.8757477505890245\n",
      "R2 of testing: 0.8310202674012024\n",
      "RMSE: 1443.6205887887156\n"
     ]
    }
   ],
   "source": [
    "cv_linear = cross_val_score(linear_regressor, X_train, y_train, cv=5, scoring='r2')\n",
    "\n",
    "y_pred_linear_train = linear_regressor.predict(X_train)\n",
    "r2_score_linear_train = r2_score(y_train, y_pred_linear_train)\n",
    "\n",
    "y_pred_linear_test = linear_regressor.predict(X_test)\n",
    "r2_score_linear_test = r2_score(y_test, y_pred_linear_test)\n",
    "\n",
    "rmse_linear = np.sqrt(mean_squared_error(y_test, y_pred_linear_test))\n",
    "\n",
    "print(f'CV Mean: {cv_linear.mean()}')\n",
    "print(f'R2 of training: {r2_score_linear_train}')\n",
    "print(f'R2 of testing: {r2_score_linear_test}')\n",
    "print(f'RMSE: {rmse_linear}')"
   ]
  },
  {
   "cell_type": "markdown",
   "id": "0d0491b9",
   "metadata": {},
   "source": [
    "### Polynomial Regression"
   ]
  },
  {
   "cell_type": "code",
   "execution_count": 16,
   "id": "b3b8ab78",
   "metadata": {},
   "outputs": [
    {
     "name": "stdout",
     "output_type": "stream",
     "text": [
      "CV Polynomial regression: 0.8617296109507485\n",
      "R2 polynomial of training: 0.9214039592704654\n",
      "R2 polynomial of testing: 0.6990044372268714\n",
      "RMSE: 1926.7075743849998\n"
     ]
    }
   ],
   "source": [
    "poly_reg = PolynomialFeatures(degree=2)\n",
    "X_train_poly = poly_reg.fit_transform(X_train)\n",
    "X_test_poly = poly_reg.transform(X_test)\n",
    "poly_reg.fit(X_train_poly, y_train)\n",
    "\n",
    "polynomial_regressor = LinearRegression()\n",
    "polynomial_regressor.fit(X_train_poly, y_train)\n",
    "\n",
    "cv_poly = cross_val_score(polynomial_regressor, X_train, y_train, cv=5, scoring='r2')\n",
    "\n",
    "y_pred_poly_train = polynomial_regressor.predict(poly_reg.fit_transform(X_train))\n",
    "r2_score_poly_train = r2_score(y_train, y_pred_poly_train)\n",
    "\n",
    "y_pred_poly_test = polynomial_regressor.predict(poly_reg.fit_transform(X_test))\n",
    "r2_score_poly_test = r2_score(y_test, y_pred_poly_test)\n",
    "\n",
    "rmse_polynomial = np.sqrt(mean_squared_error(y_test, y_pred_poly_test))\n",
    "print(f'CV Polynomial regression: {cv_poly.mean()}')\n",
    "print(f'R2 polynomial of training: {r2_score_poly_train}')\n",
    "print(f'R2 polynomial of testing: {r2_score_poly_test}')\n",
    "print(f'RMSE: {rmse_polynomial}')"
   ]
  },
  {
   "cell_type": "markdown",
   "id": "9ba4dfe0",
   "metadata": {},
   "source": [
    "### Ridge Regression"
   ]
  },
  {
   "cell_type": "code",
   "execution_count": 17,
   "id": "f4cc6121",
   "metadata": {
    "scrolled": true
   },
   "outputs": [
    {
     "name": "stdout",
     "output_type": "stream",
     "text": [
      "CV ridge: 0.8390937282257342\n",
      "R2 ridge of training: 0.8789747201499055\n",
      "R2 ridge of testing: 0.8511717410967736\n",
      "RMSE: 1354.8102028661333\n"
     ]
    }
   ],
   "source": [
    "ridge_pipe = Pipeline(steps=[\n",
    "    ('scalar', StandardScaler()),\n",
    "    ('poly', PolynomialFeatures(degree=3)),\n",
    "    ('model', Ridge(alpha=1777, fit_intercept=True))\n",
    "])\n",
    "\n",
    "ridge_pipe.fit(X_train, y_train)\n",
    "\n",
    "cv_ridge = cross_val_score(ridge_pipe, X_train, y_train, cv=5, scoring='r2')\n",
    "\n",
    "y_pred_ridge_train = ridge_pipe.predict(X_train)\n",
    "r2_score_ridge_train = r2_score(y_train, y_pred_ridge_train)\n",
    "\n",
    "y_pred_ridge_test = ridge_pipe.predict(X_test)\n",
    "r2_score_ridge_test = r2_score(y_test, y_pred_ridge_test)\n",
    "\n",
    "rmse_ridge = np.sqrt(mean_squared_error(y_test, y_pred_ridge_test))\n",
    "print(f'CV ridge: {cv_ridge.mean()}')\n",
    "print(f'R2 ridge of training: {r2_score_ridge_train}')\n",
    "print(f'R2 ridge of testing: {r2_score_ridge_test}')\n",
    "print(f'RMSE: {rmse_ridge}')"
   ]
  },
  {
   "cell_type": "markdown",
   "id": "a45b4ae4",
   "metadata": {},
   "source": [
    "### Lasso Regression"
   ]
  },
  {
   "cell_type": "code",
   "execution_count": 18,
   "id": "f36006ef",
   "metadata": {},
   "outputs": [
    {
     "name": "stderr",
     "output_type": "stream",
     "text": [
      "C:\\Users\\Z-Service\\Anaconda3\\lib\\site-packages\\sklearn\\linear_model\\_coordinate_descent.py:532: ConvergenceWarning: Objective did not converge. You might want to increase the number of iterations. Duality gap: 379712731.17852366, tolerance: 304973656.3234227\n",
      "  positive)\n",
      "C:\\Users\\Z-Service\\Anaconda3\\lib\\site-packages\\sklearn\\linear_model\\_coordinate_descent.py:532: ConvergenceWarning: Objective did not converge. You might want to increase the number of iterations. Duality gap: 304006825.49734926, tolerance: 251049511.19364312\n",
      "  positive)\n",
      "C:\\Users\\Z-Service\\Anaconda3\\lib\\site-packages\\sklearn\\linear_model\\_coordinate_descent.py:532: ConvergenceWarning: Objective did not converge. You might want to increase the number of iterations. Duality gap: 275781293.9164238, tolerance: 255932067.74136037\n",
      "  positive)\n",
      "C:\\Users\\Z-Service\\Anaconda3\\lib\\site-packages\\sklearn\\linear_model\\_coordinate_descent.py:532: ConvergenceWarning: Objective did not converge. You might want to increase the number of iterations. Duality gap: 271913782.2755481, tolerance: 240264369.58797303\n",
      "  positive)\n"
     ]
    },
    {
     "name": "stdout",
     "output_type": "stream",
     "text": [
      "CV lasso: 0.8917307679843365\n",
      "R2 lasso of training: 0.9338533472239527\n",
      "R2 lasso of testing: 0.8798563183088951\n",
      "RMSE lasso: 1217.2680587170382\n"
     ]
    }
   ],
   "source": [
    "lasso_pipe = Pipeline(steps=[\n",
    "    ('scalar', StandardScaler()),\n",
    "    ('poly', PolynomialFeatures(degree=3)),\n",
    "    ('model', Lasso(alpha=2.36, fit_intercept=True, tol=0.0199, max_iter=2000))\n",
    "])\n",
    "\n",
    "lasso_pipe.fit(X_train, y_train)\n",
    "\n",
    "cv_lasso = cross_val_score(lasso_pipe, X_train, y_train, cv=5, scoring='r2')\n",
    "\n",
    "y_pred_lasso_train = lasso_pipe.predict(X_train)\n",
    "r2_score_lasso_train = r2_score(y_train, y_pred_lasso_train)\n",
    "\n",
    "y_pred_lasso_test = lasso_pipe.predict(X_test)\n",
    "r2_score_lasso_test = r2_score(y_test, y_pred_lasso_test)\n",
    "\n",
    "rmse_lasso = np.sqrt(mean_squared_error(y_test, y_pred_lasso_test))\n",
    "\n",
    "print(f'CV lasso: {cv_lasso.mean()}')\n",
    "print(f'R2 lasso of training: {r2_score_lasso_train}')\n",
    "print(f'R2 lasso of testing: {r2_score_lasso_test}')\n",
    "print(f'RMSE lasso: {rmse_lasso}')"
   ]
  },
  {
   "cell_type": "markdown",
   "id": "fa49a4c7",
   "metadata": {},
   "source": [
    "### Support Vector Machine"
   ]
  },
  {
   "cell_type": "code",
   "execution_count": 25,
   "id": "27c47b0a",
   "metadata": {
    "scrolled": true
   },
   "outputs": [
    {
     "name": "stderr",
     "output_type": "stream",
     "text": [
      "C:\\Users\\Z-Service\\Anaconda3\\lib\\site-packages\\sklearn\\utils\\validation.py:63: DataConversionWarning: A column-vector y was passed when a 1d array was expected. Please change the shape of y to (n_samples, ), for example using ravel().\n",
      "  return f(*args, **kwargs)\n",
      "C:\\Users\\Z-Service\\Anaconda3\\lib\\site-packages\\sklearn\\utils\\validation.py:63: DataConversionWarning: A column-vector y was passed when a 1d array was expected. Please change the shape of y to (n_samples, ), for example using ravel().\n",
      "  return f(*args, **kwargs)\n",
      "C:\\Users\\Z-Service\\Anaconda3\\lib\\site-packages\\sklearn\\utils\\validation.py:63: DataConversionWarning: A column-vector y was passed when a 1d array was expected. Please change the shape of y to (n_samples, ), for example using ravel().\n",
      "  return f(*args, **kwargs)\n",
      "C:\\Users\\Z-Service\\Anaconda3\\lib\\site-packages\\sklearn\\utils\\validation.py:63: DataConversionWarning: A column-vector y was passed when a 1d array was expected. Please change the shape of y to (n_samples, ), for example using ravel().\n",
      "  return f(*args, **kwargs)\n"
     ]
    },
    {
     "name": "stdout",
     "output_type": "stream",
     "text": [
      "CV SVR: 0.8738645228121713\n",
      "R2 SVR of training: 0.91032864362785\n",
      "R2 SVR of testing: 0.9013868113295658\n",
      "RMSE SVR: 1102.8165095810457\n"
     ]
    },
    {
     "name": "stderr",
     "output_type": "stream",
     "text": [
      "C:\\Users\\Z-Service\\Anaconda3\\lib\\site-packages\\sklearn\\utils\\validation.py:63: DataConversionWarning: A column-vector y was passed when a 1d array was expected. Please change the shape of y to (n_samples, ), for example using ravel().\n",
      "  return f(*args, **kwargs)\n"
     ]
    }
   ],
   "source": [
    "sc_X = StandardScaler()\n",
    "sc_y = StandardScaler()\n",
    "\n",
    "X_scaled = sc_X.fit_transform(X_train)\n",
    "y_scaled = sc_y.fit_transform(y_train.values.reshape(-1,1))\n",
    "\n",
    "svr_regressor = SVR(kernel='rbf', gamma='scale')\n",
    "svr_regressor.fit(X_scaled, y_scaled.ravel())\n",
    "\n",
    "cv_svr = cross_val_score(svr_regressor, X_scaled, y_scaled, cv=5, scoring='r2')\n",
    "\n",
    "y_pred_svr_train = sc_y.inverse_transform(svr_regressor.predict(sc_X.transform(X_train)))\n",
    "r2_score_svr_train = r2_score(y_train, y_pred_svr_train)\n",
    "\n",
    "y_pred_svr_test = sc_y.inverse_transform(svr_regressor.predict(sc_X.transform(X_test)))\n",
    "r2_score_svr_test = r2_score(y_test, y_pred_svr_test)\n",
    "\n",
    "rmse_svr = np.sqrt(mean_squared_error(y_test, y_pred_svr_test))\n",
    "print(f'CV SVR: {cv_svr.mean()}')\n",
    "print(f'R2 SVR of training: {r2_score_svr_train}')\n",
    "print(f'R2 SVR of testing: {r2_score_svr_test}')\n",
    "print(f'RMSE SVR: {rmse_svr}')"
   ]
  },
  {
   "cell_type": "markdown",
   "id": "6d5841b9",
   "metadata": {},
   "source": [
    "### Decision Tree"
   ]
  },
  {
   "cell_type": "code",
   "execution_count": 19,
   "id": "ed94c0a2",
   "metadata": {},
   "outputs": [
    {
     "name": "stdout",
     "output_type": "stream",
     "text": [
      "CV Decision tree: 0.8487751904649711\n",
      "R2 decision tree of training: 1.0\n",
      "R2 decision tree of testing: 0.8229683647689611\n",
      "RMSE of decision tree: 1477.6146846353415\n"
     ]
    }
   ],
   "source": [
    "decision_tree_regressor = DecisionTreeRegressor(random_state=0)\n",
    "decision_tree_regressor.fit(X_train, y_train)\n",
    "\n",
    "cv_decision_tree = cross_val_score(decision_tree_regressor, X_train, y_train, cv=5, scoring='r2')\n",
    "\n",
    "y_pred_decision_tree_train = decision_tree_regressor.predict(X_train)\n",
    "r2_score_decision_tree_train = r2_score(y_train, y_pred_decision_tree_train)\n",
    "\n",
    "y_pred_decision_tree_test = decision_tree_regressor.predict(X_test)\n",
    "r2_score_decision_tree_test = r2_score(y_test, y_pred_decision_tree_test)\n",
    "\n",
    "rmse_decision_tree = np.sqrt(mean_squared_error(y_test, y_pred_decision_tree_test))\n",
    "\n",
    "print(f'CV Decision tree: {cv_decision_tree.mean()}')\n",
    "print(f'R2 decision tree of training: {r2_score_decision_tree_train}')\n",
    "print(f'R2 decision tree of testing: {r2_score_decision_tree_test}')\n",
    "print(f'RMSE of decision tree: {rmse_decision_tree}')"
   ]
  },
  {
   "cell_type": "markdown",
   "id": "77f32925",
   "metadata": {},
   "source": [
    "### Random Forest"
   ]
  },
  {
   "cell_type": "code",
   "execution_count": 20,
   "id": "8673d839",
   "metadata": {},
   "outputs": [
    {
     "name": "stdout",
     "output_type": "stream",
     "text": [
      "N_estimators: 5, CV: 0.8936367663509245, R2 RF training: 0.9785851378718234, R2 RF testing: 0.8714832645995126, RMSE RF: 1258.9706351928062\n",
      "N_estimators: 10, CV: 0.8999238232118124, R2 RF training: 0.9824539178850478, R2 RF testing: 0.881882294701055, RMSE RF: 1206.9610597373148\n",
      "N_estimators: 50, CV: 0.9061582397667172, R2 RF training: 0.9862173794505611, R2 RF testing: 0.8930089775831134, RMSE RF: 1148.7074213587732\n",
      "N_estimators: 100, CV: 0.9068819004223683, R2 RF training: 0.9867937079810463, R2 RF testing: 0.8935840042713387, RMSE RF: 1145.6163800627396\n",
      "N_estimators: 200, CV: 0.9076979900342321, R2 RF training: 0.9872648538964944, R2 RF testing: 0.8942191874919203, RMSE RF: 1142.1922453689233\n",
      "N_estimators: 400, CV: 0.9082161979965111, R2 RF training: 0.9874734523600821, R2 RF testing: 0.894647236971646, RMSE RF: 1139.878922210172\n",
      "N_estimators: 600, CV: 0.9083423835484437, R2 RF training: 0.9876531492804235, R2 RF testing: 0.894190343541853, RMSE RF: 1142.347959291715\n",
      "N_estimators: 800, CV: 0.9081909137886054, R2 RF training: 0.9877688547971296, R2 RF testing: 0.8938831710710942, RMSE RF: 1144.004913656305\n",
      "N_estimators: 1000, CV: 0.9081999907058378, R2 RF training: 0.9877378581035244, R2 RF testing: 0.8939602381201077, RMSE RF: 1143.5894230273973\n"
     ]
    }
   ],
   "source": [
    "def get_score(n_estimators):\n",
    "    random_forest_regressor = RandomForestRegressor(n_estimators=n_estimators, random_state=0)\n",
    "    random_forest_regressor.fit(X_train, y_train)\n",
    "    \n",
    "    cv_random_forest = cross_val_score(random_forest_regressor, X_train, y_train, cv=5, scoring='r2')\n",
    "    \n",
    "    y_pred_random_forest_train = random_forest_regressor.predict(X_train)\n",
    "    r2_score_random_forest_train = r2_score(y_train, y_pred_random_forest_train)\n",
    "    \n",
    "    y_pred_random_forest_test = random_forest_regressor.predict(X_test)\n",
    "    r2_score_random_forest_test = r2_score(y_test, y_pred_random_forest_test)\n",
    "    \n",
    "    rmse_random_forest = np.sqrt(mean_squared_error(y_test, y_pred_random_forest_test))\n",
    "    \n",
    "    print(f'N_estimators: {n_estimators}, CV: {cv_random_forest.mean()}, R2 RF training: {r2_score_random_forest_train}, R2 RF testing: {r2_score_random_forest_test}, RMSE RF: {rmse_random_forest}')\n",
    "    \n",
    "    return cv_random_forest, r2_score_random_forest_train, r2_score_random_forest_test, rmse_random_forest\n",
    "    \n",
    "n_estimators = [5, 10, 50, 100, 200, 400, 600, 800, 1000]    \n",
    "for n in n_estimators:\n",
    "    get_score(n)\n",
    "    \n",
    "# N = 400 gives the best result."
   ]
  },
  {
   "cell_type": "code",
   "execution_count": 28,
   "id": "1786d078",
   "metadata": {},
   "outputs": [
    {
     "name": "stdout",
     "output_type": "stream",
     "text": [
      "N_estimators: 400, CV: 0.9082161979965111, R2 RF training: 0.9874734523600821, R2 RF testing: 0.894647236971646, RMSE RF: 1139.878922210172\n"
     ]
    }
   ],
   "source": [
    "random_forest_regressor = RandomForestRegressor(n_estimators=400, random_state=0)\n",
    "random_forest_regressor.fit(X_train, y_train)\n",
    "    \n",
    "cv_random_forest = cross_val_score(random_forest_regressor, X_train, y_train, cv=5, scoring='r2')\n",
    "    \n",
    "y_pred_random_forest_train = random_forest_regressor.predict(X_train)\n",
    "r2_score_random_forest_train = r2_score(y_train, y_pred_random_forest_train)\n",
    "    \n",
    "y_pred_random_forest_test = random_forest_regressor.predict(X_test)\n",
    "r2_score_random_forest_test = r2_score(y_test, y_pred_random_forest_test)\n",
    "    \n",
    "rmse_random_forest = np.sqrt(mean_squared_error(y_test, y_pred_random_forest_test))\n",
    "    \n",
    "print(f'N_estimators: 400, CV: {cv_random_forest.mean()}, R2 RF training: {r2_score_random_forest_train}, R2 RF testing: {r2_score_random_forest_test}, RMSE RF: {rmse_random_forest}')"
   ]
  },
  {
   "cell_type": "markdown",
   "id": "ed2beaf8",
   "metadata": {},
   "source": [
    "### Comparison"
   ]
  },
  {
   "cell_type": "code",
   "execution_count": 32,
   "id": "a6b9958f",
   "metadata": {},
   "outputs": [],
   "source": [
    "models = [('Linear Regression', cv_linear.mean(), r2_score_linear_train, r2_score_linear_test, rmse_linear),\n",
    "          ('Polynomial Regression', cv_poly.mean(), r2_score_poly_train, r2_score_poly_test, rmse_polynomial),\n",
    "          ('Ridge Regression', cv_ridge.mean(), r2_score_ridge_train, r2_score_ridge_test, rmse_ridge),\n",
    "          ('Lasso Regression', cv_lasso.mean(), r2_score_lasso_train, r2_score_lasso_test, rmse_lasso),\n",
    "          ('Support Vector Regression', cv_svr.mean(), r2_score_svr_train, r2_score_svr_test, rmse_svr),\n",
    "          ('Decision Tree Regression', cv_decision_tree.mean(), r2_score_decision_tree_train, r2_score_decision_tree_test, rmse_decision_tree),\n",
    "          ('Random Forest Regression', cv_random_forest.mean(), r2_score_random_forest_train, r2_score_random_forest_test, rmse_random_forest)]"
   ]
  },
  {
   "cell_type": "code",
   "execution_count": 33,
   "id": "c52a6d52",
   "metadata": {},
   "outputs": [
    {
     "data": {
      "text/html": [
       "<div>\n",
       "<style scoped>\n",
       "    .dataframe tbody tr th:only-of-type {\n",
       "        vertical-align: middle;\n",
       "    }\n",
       "\n",
       "    .dataframe tbody tr th {\n",
       "        vertical-align: top;\n",
       "    }\n",
       "\n",
       "    .dataframe thead th {\n",
       "        text-align: right;\n",
       "    }\n",
       "</style>\n",
       "<table border=\"1\" class=\"dataframe\">\n",
       "  <thead>\n",
       "    <tr style=\"text-align: right;\">\n",
       "      <th></th>\n",
       "      <th>Model</th>\n",
       "      <th>CV</th>\n",
       "      <th>R2 score(Training)</th>\n",
       "      <th>R2 score(Testing)</th>\n",
       "      <th>RMSE</th>\n",
       "    </tr>\n",
       "  </thead>\n",
       "  <tbody>\n",
       "    <tr>\n",
       "      <th>0</th>\n",
       "      <td>Linear Regression</td>\n",
       "      <td>0.861730</td>\n",
       "      <td>0.875748</td>\n",
       "      <td>0.831020</td>\n",
       "      <td>1443.620589</td>\n",
       "    </tr>\n",
       "    <tr>\n",
       "      <th>1</th>\n",
       "      <td>Polynomial Regression</td>\n",
       "      <td>0.861730</td>\n",
       "      <td>0.921404</td>\n",
       "      <td>0.699004</td>\n",
       "      <td>1926.707574</td>\n",
       "    </tr>\n",
       "    <tr>\n",
       "      <th>2</th>\n",
       "      <td>Ridge Regression</td>\n",
       "      <td>0.839094</td>\n",
       "      <td>0.878975</td>\n",
       "      <td>0.851172</td>\n",
       "      <td>1354.810203</td>\n",
       "    </tr>\n",
       "    <tr>\n",
       "      <th>3</th>\n",
       "      <td>Lasso Regression</td>\n",
       "      <td>0.891731</td>\n",
       "      <td>0.933853</td>\n",
       "      <td>0.879856</td>\n",
       "      <td>1217.268059</td>\n",
       "    </tr>\n",
       "    <tr>\n",
       "      <th>4</th>\n",
       "      <td>Support Vector Regression</td>\n",
       "      <td>0.873865</td>\n",
       "      <td>0.910329</td>\n",
       "      <td>0.901387</td>\n",
       "      <td>1102.816510</td>\n",
       "    </tr>\n",
       "    <tr>\n",
       "      <th>5</th>\n",
       "      <td>Decision Tree Regression</td>\n",
       "      <td>0.848775</td>\n",
       "      <td>1.000000</td>\n",
       "      <td>0.822968</td>\n",
       "      <td>1477.614685</td>\n",
       "    </tr>\n",
       "    <tr>\n",
       "      <th>6</th>\n",
       "      <td>Random Forest Regression</td>\n",
       "      <td>0.908216</td>\n",
       "      <td>0.987473</td>\n",
       "      <td>0.894647</td>\n",
       "      <td>1139.878922</td>\n",
       "    </tr>\n",
       "  </tbody>\n",
       "</table>\n",
       "</div>"
      ],
      "text/plain": [
       "                       Model        CV  R2 score(Training)  R2 score(Testing)  \\\n",
       "0          Linear Regression  0.861730            0.875748           0.831020   \n",
       "1      Polynomial Regression  0.861730            0.921404           0.699004   \n",
       "2           Ridge Regression  0.839094            0.878975           0.851172   \n",
       "3           Lasso Regression  0.891731            0.933853           0.879856   \n",
       "4  Support Vector Regression  0.873865            0.910329           0.901387   \n",
       "5   Decision Tree Regression  0.848775            1.000000           0.822968   \n",
       "6   Random Forest Regression  0.908216            0.987473           0.894647   \n",
       "\n",
       "          RMSE  \n",
       "0  1443.620589  \n",
       "1  1926.707574  \n",
       "2  1354.810203  \n",
       "3  1217.268059  \n",
       "4  1102.816510  \n",
       "5  1477.614685  \n",
       "6  1139.878922  "
      ]
     },
     "execution_count": 33,
     "metadata": {},
     "output_type": "execute_result"
    }
   ],
   "source": [
    "predict = pd.DataFrame(models, columns=['Model', 'CV', 'R2 score(Training)', 'R2 score(Testing)', 'RMSE'])\n",
    "predict"
   ]
  },
  {
   "cell_type": "code",
   "execution_count": 52,
   "id": "53a85fef",
   "metadata": {},
   "outputs": [
    {
     "data": {
      "image/png": "[encoded data removed]",
      "text/plain": [
       "<Figure size 1296x432 with 1 Axes>"
      ]
     },
     "metadata": {
      "needs_background": "light"
     },
     "output_type": "display_data"
    }
   ],
   "source": [
    "fig, ax = plt.subplots(1, 1, figsize=(18,6))\n",
    "predict.sort_values(['CV'], ascending=False, inplace=True)\n",
    "sns.barplot(x='CV', y='Model', data=predict)\n",
    "ax.set_xlabel('Cross Validation Score', size=16)\n",
    "ax.set_ylabel('Model', size=16)\n",
    "ax.set_xlim(0, 1.0)\n",
    "ax.set_xticks(np.arange(0, 1.1, 0.1))\n",
    "plt.show()"
   ]
  },
  {
   "cell_type": "code",
   "execution_count": 70,
   "id": "dc4dd9ae",
   "metadata": {
    "scrolled": false
   },
   "outputs": [
    {
     "data": {
      "image/png": "[encoded data removed]",
      "text/plain": [
       "<Figure size 1008x720 with 2 Axes>"
      ]
     },
     "metadata": {
      "needs_background": "light"
     },
     "output_type": "display_data"
    }
   ],
   "source": [
    "fig, ax = plt.subplots(2, 1, figsize=(14,10))\n",
    "predict.sort_values(['R2 score(Training)'], ascending=False, inplace=True)\n",
    "sns.barplot(x='R2 score(Training)', y='Model', data=predict, palette='Blues_d', ax=ax[0])\n",
    "ax[0].set_xlabel('R2 score(Training)', size=16)\n",
    "ax[0].set_ylabel('Model', size=16)\n",
    "ax[0].set_xlim(0, 1.0)\n",
    "ax[0].set_xticks(np.arange(0, 1.1, 0.1))\n",
    "\n",
    "predict.sort_values(['R2 score(Testing)'], ascending=False, inplace=True)\n",
    "sns.barplot(x='R2 score(Testing)', y='Model', data=predict, palette='Reds_d', ax=ax[1])\n",
    "ax[1].set_xlabel('R2 score(Testing)', size=16)\n",
    "ax[1].set_ylabel('Model', size=16)\n",
    "ax[1].set_xlim(0, 1.0)\n",
    "ax[1].set_xticks(np.arange(0, 1.1, 0.1))\n",
    "plt.show()"
   ]
  },
  {
   "cell_type": "code",
   "execution_count": 87,
   "id": "3793bfb4",
   "metadata": {},
   "outputs": [
    {
     "data": {
      "image/png": "[encoded data removed]",
      "text/plain": [
       "<Figure size 1296x432 with 1 Axes>"
      ]
     },
     "metadata": {
      "needs_background": "light"
     },
     "output_type": "display_data"
    }
   ],
   "source": [
    "fig, ax = plt.subplots(1, 1, figsize=(18, 6))\n",
    "predict.sort_values('RMSE', ascending=True, inplace=True)\n",
    "sns.barplot(x='Model', y='RMSE', data=predict, ax=ax)\n",
    "ax.set_xlabel('Model', size=16)\n",
    "ax.set_ylabel('RMSE', size=16)\n",
    "plt.show()"
   ]
  }
 ],
 "metadata": {
  "kernelspec": {
   "display_name": "Python 3",
   "language": "python",
   "name": "python3"
  },
  "language_info": {
   "codemirror_mode": {
    "name": "ipython",
    "version": 3
   },
   "file_extension": ".py",
   "mimetype": "text/x-python",
   "name": "python",
   "nbconvert_exporter": "python",
   "pygments_lexer": "ipython3",
   "version": "3.7.10"
  }
 },
 "nbformat": 4,
 "nbformat_minor": 5
}
